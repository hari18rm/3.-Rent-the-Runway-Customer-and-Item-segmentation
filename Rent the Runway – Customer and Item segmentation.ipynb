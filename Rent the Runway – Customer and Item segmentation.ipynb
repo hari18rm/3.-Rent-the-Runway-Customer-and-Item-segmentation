{
 "cells": [
  {
   "cell_type": "markdown",
   "metadata": {},
   "source": [
    "### Problem Statement:\n",
    "\n",
    "The objective of this study is to segment the similar user and similar items in to clusters. Understanding the common charecteristic of each group will help the organization to promote their bussiness.\n",
    "\n",
    "The datasets used in this work contain measurements of clothing fit from RentTheRunway.\n",
    "\n",
    "RentTheRunWay is a unique platform that allows women to rent clothes for various occasions; we collected data from several categories. These datasets contain self-reported fit feedback from customers as well as other side information like reviews, ratings, product categories, catalog sizes, customers’ measurements (etc.). In this datasets, fit feedback belongs to one of three classes: ‘Small,’ ‘Fit,’ and ‘Large.’\n",
    "\n",
    "FILE DESCRIPTION\n",
    "These datasets contain measurements of clothing fit from RentTheRunway.\n",
    "\t                  \n",
    "1. Number of users:\t    105,508\n",
    "2. Number of items:\t    5,850\n",
    "3. Number of transactions:\t192,544\n",
    "\n",
    "Metadata:\n",
    "    1. ratings and reviews\n",
    "    2. fit feedback (small/fit/large etc.)\n",
    "    3. user/item measurements \n",
    "    4. category information\n",
    "    \n",
    "Data Citation:\n",
    "Decomposing fit semantics for product size recommendation in metric spaces\n",
    "Rishabh Misra, Mengting Wan, Julian McAuley\n",
    "RecSys, 2018\n",
    "\n",
    "Weblink for data:\n",
    "https://cseweb.ucsd.edu/~jmcauley/datasets.html#clothing_fit\n",
    "\n",
    "We have altered this dataset by deriving some new columns which has been computed by applying text analytics statergies on the review column of data.\n",
    "\n",
    "Appropriate features need to be selected for user segmentation(clustering) and Item Segmentation (clustering) process.  "
   ]
  },
  {
   "cell_type": "code",
   "execution_count": 1,
   "metadata": {},
   "outputs": [],
   "source": [
    "import numpy as np\n",
    "import pandas as pd\n",
    "import matplotlib.pyplot as plt\n",
    "import seaborn as sns\n",
    "from sklearn.preprocessing import MinMaxScaler,StandardScaler\n",
    "from sklearn.cluster import KMeans\n",
    "from sklearn.decomposition import PCA\n",
    "from scipy.stats import zscore"
   ]
  },
  {
   "cell_type": "code",
   "execution_count": 2,
   "metadata": {},
   "outputs": [],
   "source": [
    "df=pd.read_csv('final_cluster_data_cloth.csv')"
   ]
  },
  {
   "cell_type": "code",
   "execution_count": 3,
   "metadata": {},
   "outputs": [
    {
     "data": {
      "text/html": [
       "<div>\n",
       "<style scoped>\n",
       "    .dataframe tbody tr th:only-of-type {\n",
       "        vertical-align: middle;\n",
       "    }\n",
       "\n",
       "    .dataframe tbody tr th {\n",
       "        vertical-align: top;\n",
       "    }\n",
       "\n",
       "    .dataframe thead th {\n",
       "        text-align: right;\n",
       "    }\n",
       "</style>\n",
       "<table border=\"1\" class=\"dataframe\">\n",
       "  <thead>\n",
       "    <tr style=\"text-align: right;\">\n",
       "      <th></th>\n",
       "      <th>fit</th>\n",
       "      <th>user_id</th>\n",
       "      <th>item_id</th>\n",
       "      <th>weight</th>\n",
       "      <th>rating</th>\n",
       "      <th>rented for</th>\n",
       "      <th>body type</th>\n",
       "      <th>category</th>\n",
       "      <th>height</th>\n",
       "      <th>size</th>\n",
       "      <th>...</th>\n",
       "      <th>text_compound</th>\n",
       "      <th>text_neg</th>\n",
       "      <th>text_neu</th>\n",
       "      <th>text_pos</th>\n",
       "      <th>sum_compound</th>\n",
       "      <th>sum_neg</th>\n",
       "      <th>sum_neu</th>\n",
       "      <th>sum_pos</th>\n",
       "      <th>size1</th>\n",
       "      <th>size2</th>\n",
       "    </tr>\n",
       "  </thead>\n",
       "  <tbody>\n",
       "    <tr>\n",
       "      <th>0</th>\n",
       "      <td>fit</td>\n",
       "      <td>420272</td>\n",
       "      <td>2260466</td>\n",
       "      <td>137lbs</td>\n",
       "      <td>10.0</td>\n",
       "      <td>vacation</td>\n",
       "      <td>hourglass</td>\n",
       "      <td>romper</td>\n",
       "      <td>5' 8\"</td>\n",
       "      <td>14</td>\n",
       "      <td>...</td>\n",
       "      <td>0.9453</td>\n",
       "      <td>0.021</td>\n",
       "      <td>0.676</td>\n",
       "      <td>0.303</td>\n",
       "      <td>0.9453</td>\n",
       "      <td>0.0</td>\n",
       "      <td>0.379</td>\n",
       "      <td>0.621</td>\n",
       "      <td>0.708333</td>\n",
       "      <td>d</td>\n",
       "    </tr>\n",
       "    <tr>\n",
       "      <th>1</th>\n",
       "      <td>fit</td>\n",
       "      <td>273551</td>\n",
       "      <td>153475</td>\n",
       "      <td>132lbs</td>\n",
       "      <td>10.0</td>\n",
       "      <td>other</td>\n",
       "      <td>straight &amp; narrow</td>\n",
       "      <td>gown</td>\n",
       "      <td>5' 6\"</td>\n",
       "      <td>12</td>\n",
       "      <td>...</td>\n",
       "      <td>0.8991</td>\n",
       "      <td>0.046</td>\n",
       "      <td>0.696</td>\n",
       "      <td>0.258</td>\n",
       "      <td>0.8991</td>\n",
       "      <td>0.0</td>\n",
       "      <td>0.387</td>\n",
       "      <td>0.613</td>\n",
       "      <td>0.708333</td>\n",
       "      <td>b</td>\n",
       "    </tr>\n",
       "  </tbody>\n",
       "</table>\n",
       "<p>2 rows × 25 columns</p>\n",
       "</div>"
      ],
      "text/plain": [
       "   fit  user_id  item_id  weight  rating rented for          body type  \\\n",
       "0  fit   420272  2260466  137lbs    10.0   vacation          hourglass   \n",
       "1  fit   273551   153475  132lbs    10.0      other  straight & narrow   \n",
       "\n",
       "  category height  size  ...  text_compound  text_neg  text_neu  text_pos  \\\n",
       "0   romper  5' 8\"    14  ...         0.9453     0.021     0.676     0.303   \n",
       "1     gown  5' 6\"    12  ...         0.8991     0.046     0.696     0.258   \n",
       "\n",
       "   sum_compound  sum_neg  sum_neu  sum_pos     size1  size2  \n",
       "0        0.9453      0.0    0.379    0.621  0.708333      d  \n",
       "1        0.8991      0.0    0.387    0.613  0.708333      b  \n",
       "\n",
       "[2 rows x 25 columns]"
      ]
     },
     "execution_count": 3,
     "metadata": {},
     "output_type": "execute_result"
    }
   ],
   "source": [
    "df.head(2)"
   ]
  },
  {
   "cell_type": "code",
   "execution_count": 4,
   "metadata": {},
   "outputs": [
    {
     "data": {
      "text/plain": [
       "Index(['fit', 'user_id', 'item_id', 'weight', 'rating', 'rented for',\n",
       "       'body type', 'category', 'height', 'size', 'age', 'review_sum_Pol',\n",
       "       'review_sum_Subj', 'review_text__Pol', 'review_text_Subj',\n",
       "       'text_compound', 'text_neg', 'text_neu', 'text_pos', 'sum_compound',\n",
       "       'sum_neg', 'sum_neu', 'sum_pos', 'size1', 'size2'],\n",
       "      dtype='object')"
      ]
     },
     "execution_count": 4,
     "metadata": {},
     "output_type": "execute_result"
    }
   ],
   "source": [
    "df.columns"
   ]
  },
  {
   "cell_type": "code",
   "execution_count": 5,
   "metadata": {},
   "outputs": [
    {
     "data": {
      "text/plain": [
       "(192544, 25)"
      ]
     },
     "execution_count": 5,
     "metadata": {},
     "output_type": "execute_result"
    }
   ],
   "source": [
    "df.shape"
   ]
  },
  {
   "cell_type": "code",
   "execution_count": 6,
   "metadata": {},
   "outputs": [],
   "source": [
    "# Make the user_id and item_id as index as we are not going to use those for clustering purpose\n",
    "# but we need this at the end to identify the users and items in each cluster\n",
    "df=df.set_index(['user_id','item_id'])"
   ]
  },
  {
   "cell_type": "code",
   "execution_count": 7,
   "metadata": {},
   "outputs": [
    {
     "data": {
      "text/plain": [
       "Index(['fit', 'weight', 'rating', 'rented for', 'body type', 'category',\n",
       "       'height', 'size', 'age', 'review_sum_Pol', 'review_sum_Subj',\n",
       "       'review_text__Pol', 'review_text_Subj', 'text_compound', 'text_neg',\n",
       "       'text_neu', 'text_pos', 'sum_compound', 'sum_neg', 'sum_neu', 'sum_pos',\n",
       "       'size1', 'size2'],\n",
       "      dtype='object')"
      ]
     },
     "execution_count": 7,
     "metadata": {},
     "output_type": "execute_result"
    }
   ],
   "source": [
    "df.columns"
   ]
  },
  {
   "cell_type": "raw",
   "metadata": {},
   "source": [
    "# Clean the text (unit -lbs) from the weight column\n",
    "df['weight']=df['weight'].str.replace(r'\\D', '').astype('float')"
   ]
  },
  {
   "cell_type": "code",
   "execution_count": 9,
   "metadata": {},
   "outputs": [],
   "source": [
    "# Clean the Height column and convert the height from feet to cms\n",
    "df['height']=df['height'].str.replace(\"'\",' ')\n",
    "df['height']=df['height'].str.replace('\"',' ')"
   ]
  },
  {
   "cell_type": "code",
   "execution_count": 10,
   "metadata": {},
   "outputs": [],
   "source": [
    "#df['height'].str.split(\" \",expand=True)"
   ]
  },
  {
   "cell_type": "code",
   "execution_count": 11,
   "metadata": {},
   "outputs": [],
   "source": [
    "df['height']=df['height'].str.split(\"  \",expand=True)[0].astype('float')*30 + df['height'].str.split(\"  \",expand=True)[1].astype('float')*2.54"
   ]
  },
  {
   "cell_type": "code",
   "execution_count": 12,
   "metadata": {},
   "outputs": [],
   "source": [
    "#df['height']"
   ]
  },
  {
   "cell_type": "code",
   "execution_count": 13,
   "metadata": {},
   "outputs": [
    {
     "data": {
      "text/html": [
       "<div>\n",
       "<style scoped>\n",
       "    .dataframe tbody tr th:only-of-type {\n",
       "        vertical-align: middle;\n",
       "    }\n",
       "\n",
       "    .dataframe tbody tr th {\n",
       "        vertical-align: top;\n",
       "    }\n",
       "\n",
       "    .dataframe thead th {\n",
       "        text-align: right;\n",
       "    }\n",
       "</style>\n",
       "<table border=\"1\" class=\"dataframe\">\n",
       "  <thead>\n",
       "    <tr style=\"text-align: right;\">\n",
       "      <th></th>\n",
       "      <th>weight</th>\n",
       "      <th>rating</th>\n",
       "      <th>height</th>\n",
       "      <th>size</th>\n",
       "      <th>age</th>\n",
       "      <th>review_sum_Pol</th>\n",
       "      <th>review_sum_Subj</th>\n",
       "      <th>review_text__Pol</th>\n",
       "      <th>review_text_Subj</th>\n",
       "      <th>text_compound</th>\n",
       "      <th>text_neg</th>\n",
       "      <th>text_neu</th>\n",
       "      <th>text_pos</th>\n",
       "      <th>sum_compound</th>\n",
       "      <th>sum_neg</th>\n",
       "      <th>sum_neu</th>\n",
       "      <th>sum_pos</th>\n",
       "      <th>size1</th>\n",
       "    </tr>\n",
       "  </thead>\n",
       "  <tbody>\n",
       "    <tr>\n",
       "      <th>weight</th>\n",
       "      <td>1.000000</td>\n",
       "      <td>-0.022494</td>\n",
       "      <td>0.383636</td>\n",
       "      <td>0.850962</td>\n",
       "      <td>0.066194</td>\n",
       "      <td>-0.002390</td>\n",
       "      <td>-0.013912</td>\n",
       "      <td>-0.003793</td>\n",
       "      <td>-0.008414</td>\n",
       "      <td>-0.000879</td>\n",
       "      <td>0.020558</td>\n",
       "      <td>0.014724</td>\n",
       "      <td>-0.020312</td>\n",
       "      <td>-0.000879</td>\n",
       "      <td>0.001330</td>\n",
       "      <td>0.021657</td>\n",
       "      <td>-0.021761</td>\n",
       "      <td>0.642023</td>\n",
       "    </tr>\n",
       "    <tr>\n",
       "      <th>rating</th>\n",
       "      <td>-0.022494</td>\n",
       "      <td>1.000000</td>\n",
       "      <td>0.001768</td>\n",
       "      <td>-0.036731</td>\n",
       "      <td>-0.035280</td>\n",
       "      <td>0.215212</td>\n",
       "      <td>0.101682</td>\n",
       "      <td>0.266534</td>\n",
       "      <td>0.144264</td>\n",
       "      <td>0.310849</td>\n",
       "      <td>-0.201955</td>\n",
       "      <td>-0.223824</td>\n",
       "      <td>0.274740</td>\n",
       "      <td>0.310849</td>\n",
       "      <td>-0.208049</td>\n",
       "      <td>-0.159906</td>\n",
       "      <td>0.211767</td>\n",
       "      <td>-0.019586</td>\n",
       "    </tr>\n",
       "    <tr>\n",
       "      <th>height</th>\n",
       "      <td>0.383636</td>\n",
       "      <td>0.001768</td>\n",
       "      <td>1.000000</td>\n",
       "      <td>0.228851</td>\n",
       "      <td>-0.007414</td>\n",
       "      <td>-0.010416</td>\n",
       "      <td>-0.006706</td>\n",
       "      <td>-0.005761</td>\n",
       "      <td>-0.002767</td>\n",
       "      <td>0.004022</td>\n",
       "      <td>0.001865</td>\n",
       "      <td>0.004934</td>\n",
       "      <td>-0.005314</td>\n",
       "      <td>0.004022</td>\n",
       "      <td>0.005994</td>\n",
       "      <td>0.007346</td>\n",
       "      <td>-0.008859</td>\n",
       "      <td>0.156565</td>\n",
       "    </tr>\n",
       "    <tr>\n",
       "      <th>size</th>\n",
       "      <td>0.850962</td>\n",
       "      <td>-0.036731</td>\n",
       "      <td>0.228851</td>\n",
       "      <td>1.000000</td>\n",
       "      <td>0.155687</td>\n",
       "      <td>-0.004459</td>\n",
       "      <td>-0.012766</td>\n",
       "      <td>-0.013055</td>\n",
       "      <td>-0.013893</td>\n",
       "      <td>-0.011234</td>\n",
       "      <td>0.024933</td>\n",
       "      <td>0.024483</td>\n",
       "      <td>-0.030766</td>\n",
       "      <td>-0.011234</td>\n",
       "      <td>-0.000061</td>\n",
       "      <td>0.026046</td>\n",
       "      <td>-0.025369</td>\n",
       "      <td>0.660161</td>\n",
       "    </tr>\n",
       "    <tr>\n",
       "      <th>age</th>\n",
       "      <td>0.066194</td>\n",
       "      <td>-0.035280</td>\n",
       "      <td>-0.007414</td>\n",
       "      <td>0.155687</td>\n",
       "      <td>1.000000</td>\n",
       "      <td>-0.016522</td>\n",
       "      <td>0.023089</td>\n",
       "      <td>0.036861</td>\n",
       "      <td>0.020361</td>\n",
       "      <td>-0.075898</td>\n",
       "      <td>0.001067</td>\n",
       "      <td>-0.041649</td>\n",
       "      <td>0.039844</td>\n",
       "      <td>-0.075898</td>\n",
       "      <td>0.001542</td>\n",
       "      <td>-0.020327</td>\n",
       "      <td>0.019644</td>\n",
       "      <td>0.171436</td>\n",
       "    </tr>\n",
       "    <tr>\n",
       "      <th>review_sum_Pol</th>\n",
       "      <td>-0.002390</td>\n",
       "      <td>0.215212</td>\n",
       "      <td>-0.010416</td>\n",
       "      <td>-0.004459</td>\n",
       "      <td>-0.016522</td>\n",
       "      <td>1.000000</td>\n",
       "      <td>0.694668</td>\n",
       "      <td>0.112297</td>\n",
       "      <td>0.056649</td>\n",
       "      <td>0.100896</td>\n",
       "      <td>-0.067026</td>\n",
       "      <td>-0.088531</td>\n",
       "      <td>0.104937</td>\n",
       "      <td>0.100896</td>\n",
       "      <td>-0.187503</td>\n",
       "      <td>-0.488349</td>\n",
       "      <td>0.528601</td>\n",
       "      <td>0.001250</td>\n",
       "    </tr>\n",
       "    <tr>\n",
       "      <th>review_sum_Subj</th>\n",
       "      <td>-0.013912</td>\n",
       "      <td>0.101682</td>\n",
       "      <td>-0.006706</td>\n",
       "      <td>-0.012766</td>\n",
       "      <td>0.023089</td>\n",
       "      <td>0.694668</td>\n",
       "      <td>1.000000</td>\n",
       "      <td>0.044936</td>\n",
       "      <td>0.055022</td>\n",
       "      <td>0.040610</td>\n",
       "      <td>-0.029287</td>\n",
       "      <td>-0.038658</td>\n",
       "      <td>0.045909</td>\n",
       "      <td>0.040610</td>\n",
       "      <td>-0.021277</td>\n",
       "      <td>-0.522082</td>\n",
       "      <td>0.517914</td>\n",
       "      <td>-0.007540</td>\n",
       "    </tr>\n",
       "    <tr>\n",
       "      <th>review_text__Pol</th>\n",
       "      <td>-0.003793</td>\n",
       "      <td>0.266534</td>\n",
       "      <td>-0.005761</td>\n",
       "      <td>-0.013055</td>\n",
       "      <td>0.036861</td>\n",
       "      <td>0.112297</td>\n",
       "      <td>0.044936</td>\n",
       "      <td>1.000000</td>\n",
       "      <td>0.569357</td>\n",
       "      <td>0.363993</td>\n",
       "      <td>-0.229257</td>\n",
       "      <td>-0.554311</td>\n",
       "      <td>0.601005</td>\n",
       "      <td>0.363993</td>\n",
       "      <td>-0.070234</td>\n",
       "      <td>-0.088209</td>\n",
       "      <td>0.105021</td>\n",
       "      <td>0.011267</td>\n",
       "    </tr>\n",
       "    <tr>\n",
       "      <th>review_text_Subj</th>\n",
       "      <td>-0.008414</td>\n",
       "      <td>0.144264</td>\n",
       "      <td>-0.002767</td>\n",
       "      <td>-0.013893</td>\n",
       "      <td>0.020361</td>\n",
       "      <td>0.056649</td>\n",
       "      <td>0.055022</td>\n",
       "      <td>0.569357</td>\n",
       "      <td>1.000000</td>\n",
       "      <td>0.246178</td>\n",
       "      <td>-0.053143</td>\n",
       "      <td>-0.409269</td>\n",
       "      <td>0.410077</td>\n",
       "      <td>0.246178</td>\n",
       "      <td>-0.029650</td>\n",
       "      <td>-0.069004</td>\n",
       "      <td>0.075663</td>\n",
       "      <td>0.005036</td>\n",
       "    </tr>\n",
       "    <tr>\n",
       "      <th>text_compound</th>\n",
       "      <td>-0.000879</td>\n",
       "      <td>0.310849</td>\n",
       "      <td>0.004022</td>\n",
       "      <td>-0.011234</td>\n",
       "      <td>-0.075898</td>\n",
       "      <td>0.100896</td>\n",
       "      <td>0.040610</td>\n",
       "      <td>0.363993</td>\n",
       "      <td>0.246178</td>\n",
       "      <td>1.000000</td>\n",
       "      <td>-0.453214</td>\n",
       "      <td>-0.280845</td>\n",
       "      <td>0.402929</td>\n",
       "      <td>1.000000</td>\n",
       "      <td>-0.119579</td>\n",
       "      <td>-0.083602</td>\n",
       "      <td>0.113660</td>\n",
       "      <td>-0.004610</td>\n",
       "    </tr>\n",
       "    <tr>\n",
       "      <th>text_neg</th>\n",
       "      <td>0.020558</td>\n",
       "      <td>-0.201955</td>\n",
       "      <td>0.001865</td>\n",
       "      <td>0.024933</td>\n",
       "      <td>0.001067</td>\n",
       "      <td>-0.067026</td>\n",
       "      <td>-0.029287</td>\n",
       "      <td>-0.229257</td>\n",
       "      <td>-0.053143</td>\n",
       "      <td>-0.453214</td>\n",
       "      <td>1.000000</td>\n",
       "      <td>-0.023154</td>\n",
       "      <td>-0.269293</td>\n",
       "      <td>-0.453214</td>\n",
       "      <td>0.124344</td>\n",
       "      <td>0.035485</td>\n",
       "      <td>-0.067576</td>\n",
       "      <td>0.016307</td>\n",
       "    </tr>\n",
       "    <tr>\n",
       "      <th>text_neu</th>\n",
       "      <td>0.014724</td>\n",
       "      <td>-0.223824</td>\n",
       "      <td>0.004934</td>\n",
       "      <td>0.024483</td>\n",
       "      <td>-0.041649</td>\n",
       "      <td>-0.088531</td>\n",
       "      <td>-0.038658</td>\n",
       "      <td>-0.554311</td>\n",
       "      <td>-0.409269</td>\n",
       "      <td>-0.280845</td>\n",
       "      <td>-0.023154</td>\n",
       "      <td>1.000000</td>\n",
       "      <td>-0.956316</td>\n",
       "      <td>-0.280845</td>\n",
       "      <td>0.043166</td>\n",
       "      <td>0.104136</td>\n",
       "      <td>-0.113300</td>\n",
       "      <td>-0.004130</td>\n",
       "    </tr>\n",
       "    <tr>\n",
       "      <th>text_pos</th>\n",
       "      <td>-0.020312</td>\n",
       "      <td>0.274740</td>\n",
       "      <td>-0.005314</td>\n",
       "      <td>-0.030766</td>\n",
       "      <td>0.039844</td>\n",
       "      <td>0.104937</td>\n",
       "      <td>0.045909</td>\n",
       "      <td>0.601005</td>\n",
       "      <td>0.410077</td>\n",
       "      <td>0.402929</td>\n",
       "      <td>-0.269293</td>\n",
       "      <td>-0.956316</td>\n",
       "      <td>1.000000</td>\n",
       "      <td>0.402929</td>\n",
       "      <td>-0.077846</td>\n",
       "      <td>-0.110543</td>\n",
       "      <td>0.128981</td>\n",
       "      <td>-0.000785</td>\n",
       "    </tr>\n",
       "    <tr>\n",
       "      <th>sum_compound</th>\n",
       "      <td>-0.000879</td>\n",
       "      <td>0.310849</td>\n",
       "      <td>0.004022</td>\n",
       "      <td>-0.011234</td>\n",
       "      <td>-0.075898</td>\n",
       "      <td>0.100896</td>\n",
       "      <td>0.040610</td>\n",
       "      <td>0.363993</td>\n",
       "      <td>0.246178</td>\n",
       "      <td>1.000000</td>\n",
       "      <td>-0.453214</td>\n",
       "      <td>-0.280845</td>\n",
       "      <td>0.402929</td>\n",
       "      <td>1.000000</td>\n",
       "      <td>-0.119579</td>\n",
       "      <td>-0.083602</td>\n",
       "      <td>0.113660</td>\n",
       "      <td>-0.004610</td>\n",
       "    </tr>\n",
       "    <tr>\n",
       "      <th>sum_neg</th>\n",
       "      <td>0.001330</td>\n",
       "      <td>-0.208049</td>\n",
       "      <td>0.005994</td>\n",
       "      <td>-0.000061</td>\n",
       "      <td>0.001542</td>\n",
       "      <td>-0.187503</td>\n",
       "      <td>-0.021277</td>\n",
       "      <td>-0.070234</td>\n",
       "      <td>-0.029650</td>\n",
       "      <td>-0.119579</td>\n",
       "      <td>0.124344</td>\n",
       "      <td>0.043166</td>\n",
       "      <td>-0.077846</td>\n",
       "      <td>-0.119579</td>\n",
       "      <td>1.000000</td>\n",
       "      <td>-0.058972</td>\n",
       "      <td>-0.206298</td>\n",
       "      <td>-0.002668</td>\n",
       "    </tr>\n",
       "    <tr>\n",
       "      <th>sum_neu</th>\n",
       "      <td>0.021657</td>\n",
       "      <td>-0.159906</td>\n",
       "      <td>0.007346</td>\n",
       "      <td>0.026046</td>\n",
       "      <td>-0.020327</td>\n",
       "      <td>-0.488349</td>\n",
       "      <td>-0.522082</td>\n",
       "      <td>-0.088209</td>\n",
       "      <td>-0.069004</td>\n",
       "      <td>-0.083602</td>\n",
       "      <td>0.035485</td>\n",
       "      <td>0.104136</td>\n",
       "      <td>-0.110543</td>\n",
       "      <td>-0.083602</td>\n",
       "      <td>-0.058972</td>\n",
       "      <td>1.000000</td>\n",
       "      <td>-0.964092</td>\n",
       "      <td>0.015687</td>\n",
       "    </tr>\n",
       "    <tr>\n",
       "      <th>sum_pos</th>\n",
       "      <td>-0.021761</td>\n",
       "      <td>0.211767</td>\n",
       "      <td>-0.008859</td>\n",
       "      <td>-0.025369</td>\n",
       "      <td>0.019644</td>\n",
       "      <td>0.528601</td>\n",
       "      <td>0.517914</td>\n",
       "      <td>0.105021</td>\n",
       "      <td>0.075663</td>\n",
       "      <td>0.113660</td>\n",
       "      <td>-0.067576</td>\n",
       "      <td>-0.113300</td>\n",
       "      <td>0.128981</td>\n",
       "      <td>0.113660</td>\n",
       "      <td>-0.206298</td>\n",
       "      <td>-0.964092</td>\n",
       "      <td>1.000000</td>\n",
       "      <td>-0.014664</td>\n",
       "    </tr>\n",
       "    <tr>\n",
       "      <th>size1</th>\n",
       "      <td>0.642023</td>\n",
       "      <td>-0.019586</td>\n",
       "      <td>0.156565</td>\n",
       "      <td>0.660161</td>\n",
       "      <td>0.171436</td>\n",
       "      <td>0.001250</td>\n",
       "      <td>-0.007540</td>\n",
       "      <td>0.011267</td>\n",
       "      <td>0.005036</td>\n",
       "      <td>-0.004610</td>\n",
       "      <td>0.016307</td>\n",
       "      <td>-0.004130</td>\n",
       "      <td>-0.000785</td>\n",
       "      <td>-0.004610</td>\n",
       "      <td>-0.002668</td>\n",
       "      <td>0.015687</td>\n",
       "      <td>-0.014664</td>\n",
       "      <td>1.000000</td>\n",
       "    </tr>\n",
       "  </tbody>\n",
       "</table>\n",
       "</div>"
      ],
      "text/plain": [
       "                    weight    rating    height      size       age  \\\n",
       "weight            1.000000 -0.022494  0.383636  0.850962  0.066194   \n",
       "rating           -0.022494  1.000000  0.001768 -0.036731 -0.035280   \n",
       "height            0.383636  0.001768  1.000000  0.228851 -0.007414   \n",
       "size              0.850962 -0.036731  0.228851  1.000000  0.155687   \n",
       "age               0.066194 -0.035280 -0.007414  0.155687  1.000000   \n",
       "review_sum_Pol   -0.002390  0.215212 -0.010416 -0.004459 -0.016522   \n",
       "review_sum_Subj  -0.013912  0.101682 -0.006706 -0.012766  0.023089   \n",
       "review_text__Pol -0.003793  0.266534 -0.005761 -0.013055  0.036861   \n",
       "review_text_Subj -0.008414  0.144264 -0.002767 -0.013893  0.020361   \n",
       "text_compound    -0.000879  0.310849  0.004022 -0.011234 -0.075898   \n",
       "text_neg          0.020558 -0.201955  0.001865  0.024933  0.001067   \n",
       "text_neu          0.014724 -0.223824  0.004934  0.024483 -0.041649   \n",
       "text_pos         -0.020312  0.274740 -0.005314 -0.030766  0.039844   \n",
       "sum_compound     -0.000879  0.310849  0.004022 -0.011234 -0.075898   \n",
       "sum_neg           0.001330 -0.208049  0.005994 -0.000061  0.001542   \n",
       "sum_neu           0.021657 -0.159906  0.007346  0.026046 -0.020327   \n",
       "sum_pos          -0.021761  0.211767 -0.008859 -0.025369  0.019644   \n",
       "size1             0.642023 -0.019586  0.156565  0.660161  0.171436   \n",
       "\n",
       "                  review_sum_Pol  review_sum_Subj  review_text__Pol  \\\n",
       "weight                 -0.002390        -0.013912         -0.003793   \n",
       "rating                  0.215212         0.101682          0.266534   \n",
       "height                 -0.010416        -0.006706         -0.005761   \n",
       "size                   -0.004459        -0.012766         -0.013055   \n",
       "age                    -0.016522         0.023089          0.036861   \n",
       "review_sum_Pol          1.000000         0.694668          0.112297   \n",
       "review_sum_Subj         0.694668         1.000000          0.044936   \n",
       "review_text__Pol        0.112297         0.044936          1.000000   \n",
       "review_text_Subj        0.056649         0.055022          0.569357   \n",
       "text_compound           0.100896         0.040610          0.363993   \n",
       "text_neg               -0.067026        -0.029287         -0.229257   \n",
       "text_neu               -0.088531        -0.038658         -0.554311   \n",
       "text_pos                0.104937         0.045909          0.601005   \n",
       "sum_compound            0.100896         0.040610          0.363993   \n",
       "sum_neg                -0.187503        -0.021277         -0.070234   \n",
       "sum_neu                -0.488349        -0.522082         -0.088209   \n",
       "sum_pos                 0.528601         0.517914          0.105021   \n",
       "size1                   0.001250        -0.007540          0.011267   \n",
       "\n",
       "                  review_text_Subj  text_compound  text_neg  text_neu  \\\n",
       "weight                   -0.008414      -0.000879  0.020558  0.014724   \n",
       "rating                    0.144264       0.310849 -0.201955 -0.223824   \n",
       "height                   -0.002767       0.004022  0.001865  0.004934   \n",
       "size                     -0.013893      -0.011234  0.024933  0.024483   \n",
       "age                       0.020361      -0.075898  0.001067 -0.041649   \n",
       "review_sum_Pol            0.056649       0.100896 -0.067026 -0.088531   \n",
       "review_sum_Subj           0.055022       0.040610 -0.029287 -0.038658   \n",
       "review_text__Pol          0.569357       0.363993 -0.229257 -0.554311   \n",
       "review_text_Subj          1.000000       0.246178 -0.053143 -0.409269   \n",
       "text_compound             0.246178       1.000000 -0.453214 -0.280845   \n",
       "text_neg                 -0.053143      -0.453214  1.000000 -0.023154   \n",
       "text_neu                 -0.409269      -0.280845 -0.023154  1.000000   \n",
       "text_pos                  0.410077       0.402929 -0.269293 -0.956316   \n",
       "sum_compound              0.246178       1.000000 -0.453214 -0.280845   \n",
       "sum_neg                  -0.029650      -0.119579  0.124344  0.043166   \n",
       "sum_neu                  -0.069004      -0.083602  0.035485  0.104136   \n",
       "sum_pos                   0.075663       0.113660 -0.067576 -0.113300   \n",
       "size1                     0.005036      -0.004610  0.016307 -0.004130   \n",
       "\n",
       "                  text_pos  sum_compound   sum_neg   sum_neu   sum_pos  \\\n",
       "weight           -0.020312     -0.000879  0.001330  0.021657 -0.021761   \n",
       "rating            0.274740      0.310849 -0.208049 -0.159906  0.211767   \n",
       "height           -0.005314      0.004022  0.005994  0.007346 -0.008859   \n",
       "size             -0.030766     -0.011234 -0.000061  0.026046 -0.025369   \n",
       "age               0.039844     -0.075898  0.001542 -0.020327  0.019644   \n",
       "review_sum_Pol    0.104937      0.100896 -0.187503 -0.488349  0.528601   \n",
       "review_sum_Subj   0.045909      0.040610 -0.021277 -0.522082  0.517914   \n",
       "review_text__Pol  0.601005      0.363993 -0.070234 -0.088209  0.105021   \n",
       "review_text_Subj  0.410077      0.246178 -0.029650 -0.069004  0.075663   \n",
       "text_compound     0.402929      1.000000 -0.119579 -0.083602  0.113660   \n",
       "text_neg         -0.269293     -0.453214  0.124344  0.035485 -0.067576   \n",
       "text_neu         -0.956316     -0.280845  0.043166  0.104136 -0.113300   \n",
       "text_pos          1.000000      0.402929 -0.077846 -0.110543  0.128981   \n",
       "sum_compound      0.402929      1.000000 -0.119579 -0.083602  0.113660   \n",
       "sum_neg          -0.077846     -0.119579  1.000000 -0.058972 -0.206298   \n",
       "sum_neu          -0.110543     -0.083602 -0.058972  1.000000 -0.964092   \n",
       "sum_pos           0.128981      0.113660 -0.206298 -0.964092  1.000000   \n",
       "size1            -0.000785     -0.004610 -0.002668  0.015687 -0.014664   \n",
       "\n",
       "                     size1  \n",
       "weight            0.642023  \n",
       "rating           -0.019586  \n",
       "height            0.156565  \n",
       "size              0.660161  \n",
       "age               0.171436  \n",
       "review_sum_Pol    0.001250  \n",
       "review_sum_Subj  -0.007540  \n",
       "review_text__Pol  0.011267  \n",
       "review_text_Subj  0.005036  \n",
       "text_compound    -0.004610  \n",
       "text_neg          0.016307  \n",
       "text_neu         -0.004130  \n",
       "text_pos         -0.000785  \n",
       "sum_compound     -0.004610  \n",
       "sum_neg          -0.002668  \n",
       "sum_neu           0.015687  \n",
       "sum_pos          -0.014664  \n",
       "size1             1.000000  "
      ]
     },
     "execution_count": 13,
     "metadata": {},
     "output_type": "execute_result"
    }
   ],
   "source": [
    "# find the correaltion between the numerica features to understand the data\n",
    "# Perform some other EDA visuals also to understand the data nature\n",
    "df.corr()"
   ]
  },
  {
   "cell_type": "code",
   "execution_count": 14,
   "metadata": {},
   "outputs": [
    {
     "data": {
      "text/html": [
       "<div>\n",
       "<style scoped>\n",
       "    .dataframe tbody tr th:only-of-type {\n",
       "        vertical-align: middle;\n",
       "    }\n",
       "\n",
       "    .dataframe tbody tr th {\n",
       "        vertical-align: top;\n",
       "    }\n",
       "\n",
       "    .dataframe thead th {\n",
       "        text-align: right;\n",
       "    }\n",
       "</style>\n",
       "<table border=\"1\" class=\"dataframe\">\n",
       "  <thead>\n",
       "    <tr style=\"text-align: right;\">\n",
       "      <th></th>\n",
       "      <th></th>\n",
       "      <th>fit</th>\n",
       "      <th>rented for</th>\n",
       "      <th>body type</th>\n",
       "      <th>category</th>\n",
       "      <th>size2</th>\n",
       "    </tr>\n",
       "    <tr>\n",
       "      <th>user_id</th>\n",
       "      <th>item_id</th>\n",
       "      <th></th>\n",
       "      <th></th>\n",
       "      <th></th>\n",
       "      <th></th>\n",
       "      <th></th>\n",
       "    </tr>\n",
       "  </thead>\n",
       "  <tbody>\n",
       "    <tr>\n",
       "      <th>420272</th>\n",
       "      <th>2260466</th>\n",
       "      <td>fit</td>\n",
       "      <td>vacation</td>\n",
       "      <td>hourglass</td>\n",
       "      <td>romper</td>\n",
       "      <td>d</td>\n",
       "    </tr>\n",
       "    <tr>\n",
       "      <th>273551</th>\n",
       "      <th>153475</th>\n",
       "      <td>fit</td>\n",
       "      <td>other</td>\n",
       "      <td>straight &amp; narrow</td>\n",
       "      <td>gown</td>\n",
       "      <td>b</td>\n",
       "    </tr>\n",
       "  </tbody>\n",
       "</table>\n",
       "</div>"
      ],
      "text/plain": [
       "                 fit rented for          body type category size2\n",
       "user_id item_id                                                  \n",
       "420272  2260466  fit   vacation          hourglass   romper     d\n",
       "273551  153475   fit      other  straight & narrow     gown     b"
      ]
     },
     "execution_count": 14,
     "metadata": {},
     "output_type": "execute_result"
    }
   ],
   "source": [
    "#Treatment of the categorical data\n",
    "cat_data=df.select_dtypes(exclude=np.number)\n",
    "cat_data.head(2)"
   ]
  },
  {
   "cell_type": "code",
   "execution_count": 15,
   "metadata": {},
   "outputs": [
    {
     "data": {
      "text/plain": [
       "fit      142058\n",
       "small     25779\n",
       "large     24707\n",
       "Name: fit, dtype: int64"
      ]
     },
     "execution_count": 15,
     "metadata": {},
     "output_type": "execute_result"
    }
   ],
   "source": [
    "df['fit'].value_counts()"
   ]
  },
  {
   "cell_type": "code",
   "execution_count": 16,
   "metadata": {},
   "outputs": [],
   "source": [
    "df['fit']=df['fit'].replace({'fit':2,'small':1,'large':3})"
   ]
  },
  {
   "cell_type": "code",
   "execution_count": 17,
   "metadata": {},
   "outputs": [
    {
     "data": {
      "text/plain": [
       "2    142058\n",
       "1     25779\n",
       "3     24707\n",
       "Name: fit, dtype: int64"
      ]
     },
     "execution_count": 17,
     "metadata": {},
     "output_type": "execute_result"
    }
   ],
   "source": [
    "df['fit'].value_counts()"
   ]
  },
  {
   "cell_type": "code",
   "execution_count": 18,
   "metadata": {},
   "outputs": [
    {
     "data": {
      "text/plain": [
       "hourglass            55349\n",
       "athletic             43667\n",
       "pear                 22135\n",
       "petite               22131\n",
       "full bust            15006\n",
       "straight & narrow    14742\n",
       "apple                 4877\n",
       "Name: body type, dtype: int64"
      ]
     },
     "execution_count": 18,
     "metadata": {},
     "output_type": "execute_result"
    }
   ],
   "source": [
    "df['body type'].value_counts()"
   ]
  },
  {
   "cell_type": "code",
   "execution_count": 19,
   "metadata": {},
   "outputs": [
    {
     "data": {
      "text/plain": [
       "body type\n",
       "apple                1.034489\n",
       "athletic             1.215915\n",
       "full bust            1.097591\n",
       "hourglass            1.140251\n",
       "pear                 1.135641\n",
       "petite               1.338734\n",
       "straight & narrow    1.332112\n",
       "dtype: float64"
      ]
     },
     "execution_count": 19,
     "metadata": {},
     "output_type": "execute_result"
    }
   ],
   "source": [
    "d=df.groupby('body type')['height'].mean()/df.groupby('body type')['weight'].mean()\n",
    "d"
   ]
  },
  {
   "cell_type": "code",
   "execution_count": 20,
   "metadata": {},
   "outputs": [],
   "source": [
    "df['body type']=df['body type'].replace({'apple':1.034489,'athletic':1.215915,\n",
    "                        'full bust':1.097591,'hourglass':1.140251,\n",
    "                        'pear':1.135641,'petite':1.338734,'straight & narrow':1.332112})"
   ]
  },
  {
   "cell_type": "code",
   "execution_count": 21,
   "metadata": {},
   "outputs": [],
   "source": [
    "df=df.drop('category',1)"
   ]
  },
  {
   "cell_type": "code",
   "execution_count": 22,
   "metadata": {},
   "outputs": [
    {
     "data": {
      "text/plain": [
       "array(['d', 'b', nan, 'c', 'd+', 'a', 'dd', 'ddd/e', 'f', 'g', 'aa', 'i',\n",
       "       'h', 'j'], dtype=object)"
      ]
     },
     "execution_count": 22,
     "metadata": {},
     "output_type": "execute_result"
    }
   ],
   "source": [
    "df['size2'].unique()"
   ]
  },
  {
   "cell_type": "code",
   "execution_count": 23,
   "metadata": {},
   "outputs": [],
   "source": [
    "df['size2']=df.replace({'a':1,'aa':2,'b':3,'c':4,'d':5,'d+':6,'dd':7,'ddd/e':8,\n",
    "            'f':9,'g':10,'h':11,'i':12,'j':13})"
   ]
  },
  {
   "cell_type": "code",
   "execution_count": 24,
   "metadata": {},
   "outputs": [],
   "source": [
    "df['size2']=df['size2'].astype('float')"
   ]
  },
  {
   "cell_type": "code",
   "execution_count": null,
   "metadata": {},
   "outputs": [],
   "source": []
  },
  {
   "cell_type": "code",
   "execution_count": 25,
   "metadata": {},
   "outputs": [],
   "source": [
    "df['rented for']=df['rented for'].replace('party: cocktail','party')"
   ]
  },
  {
   "cell_type": "code",
   "execution_count": 26,
   "metadata": {},
   "outputs": [
    {
     "data": {
      "text/html": [
       "<div>\n",
       "<style scoped>\n",
       "    .dataframe tbody tr th:only-of-type {\n",
       "        vertical-align: middle;\n",
       "    }\n",
       "\n",
       "    .dataframe tbody tr th {\n",
       "        vertical-align: top;\n",
       "    }\n",
       "\n",
       "    .dataframe thead th {\n",
       "        text-align: right;\n",
       "    }\n",
       "</style>\n",
       "<table border=\"1\" class=\"dataframe\">\n",
       "  <thead>\n",
       "    <tr style=\"text-align: right;\">\n",
       "      <th></th>\n",
       "      <th></th>\n",
       "      <th>fit</th>\n",
       "      <th>weight</th>\n",
       "      <th>rating</th>\n",
       "      <th>body type</th>\n",
       "      <th>height</th>\n",
       "      <th>size</th>\n",
       "      <th>age</th>\n",
       "      <th>review_sum_Pol</th>\n",
       "      <th>review_sum_Subj</th>\n",
       "      <th>review_text__Pol</th>\n",
       "      <th>...</th>\n",
       "      <th>size1</th>\n",
       "      <th>size2</th>\n",
       "      <th>rented for_date</th>\n",
       "      <th>rented for_everyday</th>\n",
       "      <th>rented for_formal affair</th>\n",
       "      <th>rented for_other</th>\n",
       "      <th>rented for_party</th>\n",
       "      <th>rented for_vacation</th>\n",
       "      <th>rented for_wedding</th>\n",
       "      <th>rented for_work</th>\n",
       "    </tr>\n",
       "    <tr>\n",
       "      <th>user_id</th>\n",
       "      <th>item_id</th>\n",
       "      <th></th>\n",
       "      <th></th>\n",
       "      <th></th>\n",
       "      <th></th>\n",
       "      <th></th>\n",
       "      <th></th>\n",
       "      <th></th>\n",
       "      <th></th>\n",
       "      <th></th>\n",
       "      <th></th>\n",
       "      <th></th>\n",
       "      <th></th>\n",
       "      <th></th>\n",
       "      <th></th>\n",
       "      <th></th>\n",
       "      <th></th>\n",
       "      <th></th>\n",
       "      <th></th>\n",
       "      <th></th>\n",
       "      <th></th>\n",
       "      <th></th>\n",
       "    </tr>\n",
       "  </thead>\n",
       "  <tbody>\n",
       "    <tr>\n",
       "      <th>420272</th>\n",
       "      <th>2260466</th>\n",
       "      <td>2</td>\n",
       "      <td>137.0</td>\n",
       "      <td>10.0</td>\n",
       "      <td>1.140251</td>\n",
       "      <td>170.32</td>\n",
       "      <td>14</td>\n",
       "      <td>28.0</td>\n",
       "      <td>0.625000</td>\n",
       "      <td>0.500000</td>\n",
       "      <td>0.181548</td>\n",
       "      <td>...</td>\n",
       "      <td>0.708333</td>\n",
       "      <td>2.0</td>\n",
       "      <td>0</td>\n",
       "      <td>0</td>\n",
       "      <td>0</td>\n",
       "      <td>0</td>\n",
       "      <td>0</td>\n",
       "      <td>1</td>\n",
       "      <td>0</td>\n",
       "      <td>0</td>\n",
       "    </tr>\n",
       "    <tr>\n",
       "      <th>273551</th>\n",
       "      <th>153475</th>\n",
       "      <td>2</td>\n",
       "      <td>132.0</td>\n",
       "      <td>10.0</td>\n",
       "      <td>1.332112</td>\n",
       "      <td>165.24</td>\n",
       "      <td>12</td>\n",
       "      <td>36.0</td>\n",
       "      <td>0.000000</td>\n",
       "      <td>0.000000</td>\n",
       "      <td>0.360667</td>\n",
       "      <td>...</td>\n",
       "      <td>0.708333</td>\n",
       "      <td>2.0</td>\n",
       "      <td>0</td>\n",
       "      <td>0</td>\n",
       "      <td>0</td>\n",
       "      <td>1</td>\n",
       "      <td>0</td>\n",
       "      <td>0</td>\n",
       "      <td>0</td>\n",
       "      <td>0</td>\n",
       "    </tr>\n",
       "    <tr>\n",
       "      <th>360448</th>\n",
       "      <th>1063761</th>\n",
       "      <td>2</td>\n",
       "      <td>NaN</td>\n",
       "      <td>10.0</td>\n",
       "      <td>NaN</td>\n",
       "      <td>160.16</td>\n",
       "      <td>4</td>\n",
       "      <td>116.0</td>\n",
       "      <td>0.525000</td>\n",
       "      <td>0.541667</td>\n",
       "      <td>0.489762</td>\n",
       "      <td>...</td>\n",
       "      <td>NaN</td>\n",
       "      <td>2.0</td>\n",
       "      <td>0</td>\n",
       "      <td>0</td>\n",
       "      <td>0</td>\n",
       "      <td>0</td>\n",
       "      <td>1</td>\n",
       "      <td>0</td>\n",
       "      <td>0</td>\n",
       "      <td>0</td>\n",
       "    </tr>\n",
       "    <tr>\n",
       "      <th>909926</th>\n",
       "      <th>126335</th>\n",
       "      <td>2</td>\n",
       "      <td>135.0</td>\n",
       "      <td>8.0</td>\n",
       "      <td>1.135641</td>\n",
       "      <td>162.70</td>\n",
       "      <td>8</td>\n",
       "      <td>34.0</td>\n",
       "      <td>1.000000</td>\n",
       "      <td>1.000000</td>\n",
       "      <td>0.213056</td>\n",
       "      <td>...</td>\n",
       "      <td>0.708333</td>\n",
       "      <td>2.0</td>\n",
       "      <td>0</td>\n",
       "      <td>0</td>\n",
       "      <td>1</td>\n",
       "      <td>0</td>\n",
       "      <td>0</td>\n",
       "      <td>0</td>\n",
       "      <td>0</td>\n",
       "      <td>0</td>\n",
       "    </tr>\n",
       "    <tr>\n",
       "      <th>151944</th>\n",
       "      <th>616682</th>\n",
       "      <td>2</td>\n",
       "      <td>145.0</td>\n",
       "      <td>10.0</td>\n",
       "      <td>1.215915</td>\n",
       "      <td>172.86</td>\n",
       "      <td>12</td>\n",
       "      <td>27.0</td>\n",
       "      <td>0.976562</td>\n",
       "      <td>0.600000</td>\n",
       "      <td>-0.054028</td>\n",
       "      <td>...</td>\n",
       "      <td>0.708333</td>\n",
       "      <td>2.0</td>\n",
       "      <td>0</td>\n",
       "      <td>0</td>\n",
       "      <td>0</td>\n",
       "      <td>0</td>\n",
       "      <td>0</td>\n",
       "      <td>0</td>\n",
       "      <td>1</td>\n",
       "      <td>0</td>\n",
       "    </tr>\n",
       "  </tbody>\n",
       "</table>\n",
       "<p>5 rows × 29 columns</p>\n",
       "</div>"
      ],
      "text/plain": [
       "                 fit  weight  rating  body type  height  size    age  \\\n",
       "user_id item_id                                                        \n",
       "420272  2260466    2   137.0    10.0   1.140251  170.32    14   28.0   \n",
       "273551  153475     2   132.0    10.0   1.332112  165.24    12   36.0   \n",
       "360448  1063761    2     NaN    10.0        NaN  160.16     4  116.0   \n",
       "909926  126335     2   135.0     8.0   1.135641  162.70     8   34.0   \n",
       "151944  616682     2   145.0    10.0   1.215915  172.86    12   27.0   \n",
       "\n",
       "                 review_sum_Pol  review_sum_Subj  review_text__Pol  ...  \\\n",
       "user_id item_id                                                     ...   \n",
       "420272  2260466        0.625000         0.500000          0.181548  ...   \n",
       "273551  153475         0.000000         0.000000          0.360667  ...   \n",
       "360448  1063761        0.525000         0.541667          0.489762  ...   \n",
       "909926  126335         1.000000         1.000000          0.213056  ...   \n",
       "151944  616682         0.976562         0.600000         -0.054028  ...   \n",
       "\n",
       "                    size1  size2  rented for_date  rented for_everyday  \\\n",
       "user_id item_id                                                          \n",
       "420272  2260466  0.708333    2.0                0                    0   \n",
       "273551  153475   0.708333    2.0                0                    0   \n",
       "360448  1063761       NaN    2.0                0                    0   \n",
       "909926  126335   0.708333    2.0                0                    0   \n",
       "151944  616682   0.708333    2.0                0                    0   \n",
       "\n",
       "                 rented for_formal affair  rented for_other  rented for_party  \\\n",
       "user_id item_id                                                                 \n",
       "420272  2260466                         0                 0                 0   \n",
       "273551  153475                          0                 1                 0   \n",
       "360448  1063761                         0                 0                 1   \n",
       "909926  126335                          1                 0                 0   \n",
       "151944  616682                          0                 0                 0   \n",
       "\n",
       "                 rented for_vacation  rented for_wedding  rented for_work  \n",
       "user_id item_id                                                            \n",
       "420272  2260466                    1                   0                0  \n",
       "273551  153475                     0                   0                0  \n",
       "360448  1063761                    0                   0                0  \n",
       "909926  126335                     0                   0                0  \n",
       "151944  616682                     0                   1                0  \n",
       "\n",
       "[5 rows x 29 columns]"
      ]
     },
     "execution_count": 26,
     "metadata": {},
     "output_type": "execute_result"
    }
   ],
   "source": [
    "df=pd.get_dummies(df)\n",
    "df.head()"
   ]
  },
  {
   "cell_type": "code",
   "execution_count": 27,
   "metadata": {},
   "outputs": [
    {
     "data": {
      "image/png": "[encoded data removed]",
      "text/plain": [
       "<Figure size 1152x576 with 2 Axes>"
      ]
     },
     "metadata": {
      "needs_background": "light"
     },
     "output_type": "display_data"
    }
   ],
   "source": [
    "plt.figure(figsize=[16,8])\n",
    "sns.heatmap(df.corr(), annot=True, cmap=\"YlGnBu\")\n",
    "plt.title('Correlations of the Features')\n",
    "plt.show()"
   ]
  },
  {
   "cell_type": "code",
   "execution_count": 28,
   "metadata": {},
   "outputs": [],
   "source": [
    "#i = sns.pairplot(df ,hue='assigned condition', palette='husl')\n",
    "#plt.show()"
   ]
  },
  {
   "cell_type": "code",
   "execution_count": 29,
   "metadata": {},
   "outputs": [
    {
     "data": {
      "text/plain": [
       "(192544, 29)"
      ]
     },
     "execution_count": 29,
     "metadata": {},
     "output_type": "execute_result"
    }
   ],
   "source": [
    "df.shape"
   ]
  },
  {
   "cell_type": "code",
   "execution_count": 30,
   "metadata": {},
   "outputs": [
    {
     "data": {
      "text/plain": [
       "fit                          0.000000\n",
       "weight                      15.571506\n",
       "rating                       0.042588\n",
       "body type                    7.601899\n",
       "height                       0.351608\n",
       "size                         0.000000\n",
       "age                          0.498587\n",
       "review_sum_Pol               0.000000\n",
       "review_sum_Subj              0.000000\n",
       "review_text__Pol             0.000000\n",
       "review_text_Subj             0.000000\n",
       "text_compound                0.000000\n",
       "text_neg                     0.000000\n",
       "text_neu                     0.000000\n",
       "text_pos                     0.000000\n",
       "sum_compound                 0.000000\n",
       "sum_neg                      0.000000\n",
       "sum_neu                      0.000000\n",
       "sum_pos                      0.000000\n",
       "size1                        9.561970\n",
       "size2                        0.000000\n",
       "rented for_date              0.000000\n",
       "rented for_everyday          0.000000\n",
       "rented for_formal affair     0.000000\n",
       "rented for_other             0.000000\n",
       "rented for_party             0.000000\n",
       "rented for_vacation          0.000000\n",
       "rented for_wedding           0.000000\n",
       "rented for_work              0.000000\n",
       "dtype: float64"
      ]
     },
     "execution_count": 30,
     "metadata": {},
     "output_type": "execute_result"
    }
   ],
   "source": [
    "# Missing value Treatment\n",
    "df.isnull().sum()/len(df)*100"
   ]
  },
  {
   "cell_type": "code",
   "execution_count": 31,
   "metadata": {},
   "outputs": [],
   "source": [
    "df=df.dropna()  # Imputation statergies also explored to fill the missing values"
   ]
  },
  {
   "cell_type": "code",
   "execution_count": 32,
   "metadata": {},
   "outputs": [
    {
     "data": {
      "text/plain": [
       "Index(['fit', 'weight', 'rating', 'body type', 'height', 'size', 'age',\n",
       "       'review_sum_Pol', 'review_sum_Subj', 'review_text__Pol',\n",
       "       'review_text_Subj', 'text_compound', 'text_neg', 'text_neu', 'text_pos',\n",
       "       'sum_compound', 'sum_neg', 'sum_neu', 'sum_pos', 'size1', 'size2',\n",
       "       'rented for_date', 'rented for_everyday', 'rented for_formal affair',\n",
       "       'rented for_other', 'rented for_party', 'rented for_vacation',\n",
       "       'rented for_wedding', 'rented for_work'],\n",
       "      dtype='object')"
      ]
     },
     "execution_count": 32,
     "metadata": {},
     "output_type": "execute_result"
    }
   ],
   "source": [
    "df.columns"
   ]
  },
  {
   "cell_type": "code",
   "execution_count": 33,
   "metadata": {},
   "outputs": [],
   "source": [
    "# create the seperate list of features related to users and items\n",
    "user_feat=['user_id','fit','weight','body type','height','age','size','size1',\n",
    "           'size2']\n",
    "item_feat=['item_id','fit','rating','review_sum_Pol', 'review_sum_Subj', 'review_text__Pol',\n",
    "       'review_text_Subj', 'text_compound', 'text_neg', 'text_neu', 'text_pos',\n",
    "       'sum_compound', 'sum_neg', 'sum_neu', 'sum_pos','rented for_date', 'rented for_everyday', 'rented for_formal affair',\n",
    "       'rented for_other', 'rented for_party', 'rented for_vacation',\n",
    "       'rented for_wedding', 'rented for_work']"
   ]
  },
  {
   "cell_type": "code",
   "execution_count": 34,
   "metadata": {},
   "outputs": [],
   "source": [
    "df=df.reset_index()"
   ]
  },
  {
   "cell_type": "code",
   "execution_count": 35,
   "metadata": {},
   "outputs": [
    {
     "data": {
      "text/html": [
       "<div>\n",
       "<style scoped>\n",
       "    .dataframe tbody tr th:only-of-type {\n",
       "        vertical-align: middle;\n",
       "    }\n",
       "\n",
       "    .dataframe tbody tr th {\n",
       "        vertical-align: top;\n",
       "    }\n",
       "\n",
       "    .dataframe thead th {\n",
       "        text-align: right;\n",
       "    }\n",
       "</style>\n",
       "<table border=\"1\" class=\"dataframe\">\n",
       "  <thead>\n",
       "    <tr style=\"text-align: right;\">\n",
       "      <th></th>\n",
       "      <th>user_id</th>\n",
       "      <th>item_id</th>\n",
       "      <th>fit</th>\n",
       "      <th>weight</th>\n",
       "      <th>rating</th>\n",
       "      <th>body type</th>\n",
       "      <th>height</th>\n",
       "      <th>size</th>\n",
       "      <th>age</th>\n",
       "      <th>review_sum_Pol</th>\n",
       "      <th>...</th>\n",
       "      <th>size1</th>\n",
       "      <th>size2</th>\n",
       "      <th>rented for_date</th>\n",
       "      <th>rented for_everyday</th>\n",
       "      <th>rented for_formal affair</th>\n",
       "      <th>rented for_other</th>\n",
       "      <th>rented for_party</th>\n",
       "      <th>rented for_vacation</th>\n",
       "      <th>rented for_wedding</th>\n",
       "      <th>rented for_work</th>\n",
       "    </tr>\n",
       "  </thead>\n",
       "  <tbody>\n",
       "    <tr>\n",
       "      <th>0</th>\n",
       "      <td>420272</td>\n",
       "      <td>2260466</td>\n",
       "      <td>2</td>\n",
       "      <td>137.0</td>\n",
       "      <td>10.0</td>\n",
       "      <td>1.140251</td>\n",
       "      <td>170.32</td>\n",
       "      <td>14</td>\n",
       "      <td>28.0</td>\n",
       "      <td>0.625</td>\n",
       "      <td>...</td>\n",
       "      <td>0.708333</td>\n",
       "      <td>2.0</td>\n",
       "      <td>0</td>\n",
       "      <td>0</td>\n",
       "      <td>0</td>\n",
       "      <td>0</td>\n",
       "      <td>0</td>\n",
       "      <td>1</td>\n",
       "      <td>0</td>\n",
       "      <td>0</td>\n",
       "    </tr>\n",
       "    <tr>\n",
       "      <th>1</th>\n",
       "      <td>273551</td>\n",
       "      <td>153475</td>\n",
       "      <td>2</td>\n",
       "      <td>132.0</td>\n",
       "      <td>10.0</td>\n",
       "      <td>1.332112</td>\n",
       "      <td>165.24</td>\n",
       "      <td>12</td>\n",
       "      <td>36.0</td>\n",
       "      <td>0.000</td>\n",
       "      <td>...</td>\n",
       "      <td>0.708333</td>\n",
       "      <td>2.0</td>\n",
       "      <td>0</td>\n",
       "      <td>0</td>\n",
       "      <td>0</td>\n",
       "      <td>1</td>\n",
       "      <td>0</td>\n",
       "      <td>0</td>\n",
       "      <td>0</td>\n",
       "      <td>0</td>\n",
       "    </tr>\n",
       "  </tbody>\n",
       "</table>\n",
       "<p>2 rows × 31 columns</p>\n",
       "</div>"
      ],
      "text/plain": [
       "   user_id  item_id  fit  weight  rating  body type  height  size   age  \\\n",
       "0   420272  2260466    2   137.0    10.0   1.140251  170.32    14  28.0   \n",
       "1   273551   153475    2   132.0    10.0   1.332112  165.24    12  36.0   \n",
       "\n",
       "   review_sum_Pol  ...     size1  size2  rented for_date  rented for_everyday  \\\n",
       "0           0.625  ...  0.708333    2.0                0                    0   \n",
       "1           0.000  ...  0.708333    2.0                0                    0   \n",
       "\n",
       "   rented for_formal affair  rented for_other  rented for_party  \\\n",
       "0                         0                 0                 0   \n",
       "1                         0                 1                 0   \n",
       "\n",
       "   rented for_vacation  rented for_wedding  rented for_work  \n",
       "0                    1                   0                0  \n",
       "1                    0                   0                0  \n",
       "\n",
       "[2 rows x 31 columns]"
      ]
     },
     "execution_count": 35,
     "metadata": {},
     "output_type": "execute_result"
    }
   ],
   "source": [
    "df.head(2)"
   ]
  },
  {
   "cell_type": "code",
   "execution_count": 36,
   "metadata": {},
   "outputs": [],
   "source": [
    "df_user=df[user_feat]"
   ]
  },
  {
   "cell_type": "code",
   "execution_count": 37,
   "metadata": {},
   "outputs": [
    {
     "data": {
      "text/html": [
       "<div>\n",
       "<style scoped>\n",
       "    .dataframe tbody tr th:only-of-type {\n",
       "        vertical-align: middle;\n",
       "    }\n",
       "\n",
       "    .dataframe tbody tr th {\n",
       "        vertical-align: top;\n",
       "    }\n",
       "\n",
       "    .dataframe thead th {\n",
       "        text-align: right;\n",
       "    }\n",
       "</style>\n",
       "<table border=\"1\" class=\"dataframe\">\n",
       "  <thead>\n",
       "    <tr style=\"text-align: right;\">\n",
       "      <th></th>\n",
       "      <th>user_id</th>\n",
       "      <th>fit</th>\n",
       "      <th>weight</th>\n",
       "      <th>body type</th>\n",
       "      <th>height</th>\n",
       "      <th>age</th>\n",
       "      <th>size</th>\n",
       "      <th>size1</th>\n",
       "      <th>size2</th>\n",
       "    </tr>\n",
       "  </thead>\n",
       "  <tbody>\n",
       "    <tr>\n",
       "      <th>0</th>\n",
       "      <td>420272</td>\n",
       "      <td>2</td>\n",
       "      <td>137.0</td>\n",
       "      <td>1.140251</td>\n",
       "      <td>170.32</td>\n",
       "      <td>28.0</td>\n",
       "      <td>14</td>\n",
       "      <td>0.708333</td>\n",
       "      <td>2.0</td>\n",
       "    </tr>\n",
       "    <tr>\n",
       "      <th>1</th>\n",
       "      <td>273551</td>\n",
       "      <td>2</td>\n",
       "      <td>132.0</td>\n",
       "      <td>1.332112</td>\n",
       "      <td>165.24</td>\n",
       "      <td>36.0</td>\n",
       "      <td>12</td>\n",
       "      <td>0.708333</td>\n",
       "      <td>2.0</td>\n",
       "    </tr>\n",
       "  </tbody>\n",
       "</table>\n",
       "</div>"
      ],
      "text/plain": [
       "   user_id  fit  weight  body type  height   age  size     size1  size2\n",
       "0   420272    2   137.0   1.140251  170.32  28.0    14  0.708333    2.0\n",
       "1   273551    2   132.0   1.332112  165.24  36.0    12  0.708333    2.0"
      ]
     },
     "execution_count": 37,
     "metadata": {},
     "output_type": "execute_result"
    }
   ],
   "source": [
    "df_user.head(2)"
   ]
  },
  {
   "cell_type": "code",
   "execution_count": 38,
   "metadata": {},
   "outputs": [
    {
     "data": {
      "text/html": [
       "<div>\n",
       "<style scoped>\n",
       "    .dataframe tbody tr th:only-of-type {\n",
       "        vertical-align: middle;\n",
       "    }\n",
       "\n",
       "    .dataframe tbody tr th {\n",
       "        vertical-align: top;\n",
       "    }\n",
       "\n",
       "    .dataframe thead th {\n",
       "        text-align: right;\n",
       "    }\n",
       "</style>\n",
       "<table border=\"1\" class=\"dataframe\">\n",
       "  <thead>\n",
       "    <tr style=\"text-align: right;\">\n",
       "      <th></th>\n",
       "      <th>user_id</th>\n",
       "      <th>fit</th>\n",
       "      <th>weight</th>\n",
       "      <th>body type</th>\n",
       "      <th>height</th>\n",
       "      <th>age</th>\n",
       "      <th>size</th>\n",
       "      <th>size1</th>\n",
       "      <th>size2</th>\n",
       "    </tr>\n",
       "  </thead>\n",
       "  <tbody>\n",
       "    <tr>\n",
       "      <th>0</th>\n",
       "      <td>420272</td>\n",
       "      <td>2</td>\n",
       "      <td>137.0</td>\n",
       "      <td>1.140251</td>\n",
       "      <td>170.32</td>\n",
       "      <td>28.0</td>\n",
       "      <td>14</td>\n",
       "      <td>0.708333</td>\n",
       "      <td>2.0</td>\n",
       "    </tr>\n",
       "    <tr>\n",
       "      <th>12517</th>\n",
       "      <td>420272</td>\n",
       "      <td>2</td>\n",
       "      <td>137.0</td>\n",
       "      <td>1.140251</td>\n",
       "      <td>170.32</td>\n",
       "      <td>28.0</td>\n",
       "      <td>14</td>\n",
       "      <td>0.708333</td>\n",
       "      <td>2.0</td>\n",
       "    </tr>\n",
       "    <tr>\n",
       "      <th>32355</th>\n",
       "      <td>420272</td>\n",
       "      <td>2</td>\n",
       "      <td>137.0</td>\n",
       "      <td>1.140251</td>\n",
       "      <td>170.32</td>\n",
       "      <td>28.0</td>\n",
       "      <td>14</td>\n",
       "      <td>0.708333</td>\n",
       "      <td>2.0</td>\n",
       "    </tr>\n",
       "    <tr>\n",
       "      <th>46521</th>\n",
       "      <td>420272</td>\n",
       "      <td>2</td>\n",
       "      <td>137.0</td>\n",
       "      <td>1.140251</td>\n",
       "      <td>170.32</td>\n",
       "      <td>28.0</td>\n",
       "      <td>12</td>\n",
       "      <td>0.708333</td>\n",
       "      <td>2.0</td>\n",
       "    </tr>\n",
       "    <tr>\n",
       "      <th>53444</th>\n",
       "      <td>420272</td>\n",
       "      <td>2</td>\n",
       "      <td>137.0</td>\n",
       "      <td>1.140251</td>\n",
       "      <td>170.32</td>\n",
       "      <td>28.0</td>\n",
       "      <td>8</td>\n",
       "      <td>0.708333</td>\n",
       "      <td>2.0</td>\n",
       "    </tr>\n",
       "    <tr>\n",
       "      <th>102762</th>\n",
       "      <td>420272</td>\n",
       "      <td>1</td>\n",
       "      <td>137.0</td>\n",
       "      <td>1.140251</td>\n",
       "      <td>170.32</td>\n",
       "      <td>28.0</td>\n",
       "      <td>14</td>\n",
       "      <td>0.708333</td>\n",
       "      <td>1.0</td>\n",
       "    </tr>\n",
       "  </tbody>\n",
       "</table>\n",
       "</div>"
      ],
      "text/plain": [
       "        user_id  fit  weight  body type  height   age  size     size1  size2\n",
       "0        420272    2   137.0   1.140251  170.32  28.0    14  0.708333    2.0\n",
       "12517    420272    2   137.0   1.140251  170.32  28.0    14  0.708333    2.0\n",
       "32355    420272    2   137.0   1.140251  170.32  28.0    14  0.708333    2.0\n",
       "46521    420272    2   137.0   1.140251  170.32  28.0    12  0.708333    2.0\n",
       "53444    420272    2   137.0   1.140251  170.32  28.0     8  0.708333    2.0\n",
       "102762   420272    1   137.0   1.140251  170.32  28.0    14  0.708333    1.0"
      ]
     },
     "execution_count": 38,
     "metadata": {},
     "output_type": "execute_result"
    }
   ],
   "source": [
    "df_user[df_user['user_id']==420272]"
   ]
  },
  {
   "cell_type": "code",
   "execution_count": 39,
   "metadata": {},
   "outputs": [],
   "source": [
    "#df_user['fit'].unique()"
   ]
  },
  {
   "cell_type": "code",
   "execution_count": null,
   "metadata": {},
   "outputs": [],
   "source": []
  },
  {
   "cell_type": "code",
   "execution_count": 40,
   "metadata": {},
   "outputs": [],
   "source": [
    "df_user1=df_user.groupby('user_id').agg({'fit':'median','weight':'median','body type':'mean','height':'median',\n",
    "                               'age':'median','size':'median','size1':'median','size2':'median'})"
   ]
  },
  {
   "cell_type": "code",
   "execution_count": 41,
   "metadata": {},
   "outputs": [],
   "source": [
    "df_user1['fit']=np.round(df_user1['fit'])"
   ]
  },
  {
   "cell_type": "code",
   "execution_count": 42,
   "metadata": {},
   "outputs": [],
   "source": [
    "#df_user1['size2'].value_counts()"
   ]
  },
  {
   "cell_type": "code",
   "execution_count": null,
   "metadata": {},
   "outputs": [],
   "source": []
  },
  {
   "cell_type": "code",
   "execution_count": 43,
   "metadata": {},
   "outputs": [
    {
     "data": {
      "text/plain": [
       "(77349, 8)"
      ]
     },
     "execution_count": 43,
     "metadata": {},
     "output_type": "execute_result"
    }
   ],
   "source": [
    "df_user1.shape"
   ]
  },
  {
   "cell_type": "code",
   "execution_count": 44,
   "metadata": {},
   "outputs": [
    {
     "data": {
      "text/plain": [
       "(77349, 8)"
      ]
     },
     "execution_count": 44,
     "metadata": {},
     "output_type": "execute_result"
    }
   ],
   "source": [
    "df_user1.shape"
   ]
  },
  {
   "cell_type": "code",
   "execution_count": 45,
   "metadata": {},
   "outputs": [],
   "source": [
    "mm=MinMaxScaler()\n",
    "df_scaled_user1=mm.fit_transform(df_user1.iloc[:,1:])\n",
    "df_scaled_user1=pd.DataFrame(df_scaled_user1,columns=df_user1.columns[1:],index=df_user1.index)"
   ]
  },
  {
   "cell_type": "code",
   "execution_count": 47,
   "metadata": {},
   "outputs": [
    {
     "data": {
      "text/html": [
       "<div>\n",
       "<style scoped>\n",
       "    .dataframe tbody tr th:only-of-type {\n",
       "        vertical-align: middle;\n",
       "    }\n",
       "\n",
       "    .dataframe tbody tr th {\n",
       "        vertical-align: top;\n",
       "    }\n",
       "\n",
       "    .dataframe thead th {\n",
       "        text-align: right;\n",
       "    }\n",
       "</style>\n",
       "<table border=\"1\" class=\"dataframe\">\n",
       "  <thead>\n",
       "    <tr style=\"text-align: right;\">\n",
       "      <th></th>\n",
       "      <th>weight</th>\n",
       "      <th>body type</th>\n",
       "      <th>height</th>\n",
       "      <th>age</th>\n",
       "      <th>size</th>\n",
       "      <th>size1</th>\n",
       "      <th>size2</th>\n",
       "    </tr>\n",
       "    <tr>\n",
       "      <th>user_id</th>\n",
       "      <th></th>\n",
       "      <th></th>\n",
       "      <th></th>\n",
       "      <th></th>\n",
       "      <th></th>\n",
       "      <th></th>\n",
       "      <th></th>\n",
       "    </tr>\n",
       "  </thead>\n",
       "  <tbody>\n",
       "    <tr>\n",
       "      <th>9</th>\n",
       "      <td>0.38</td>\n",
       "      <td>0.332469</td>\n",
       "      <td>0.500000</td>\n",
       "      <td>0.273504</td>\n",
       "      <td>0.137931</td>\n",
       "      <td>0.2</td>\n",
       "      <td>0.5</td>\n",
       "    </tr>\n",
       "    <tr>\n",
       "      <th>25</th>\n",
       "      <td>0.32</td>\n",
       "      <td>0.207405</td>\n",
       "      <td>0.542333</td>\n",
       "      <td>0.341880</td>\n",
       "      <td>0.137931</td>\n",
       "      <td>0.3</td>\n",
       "      <td>0.5</td>\n",
       "    </tr>\n",
       "  </tbody>\n",
       "</table>\n",
       "</div>"
      ],
      "text/plain": [
       "         weight  body type    height       age      size  size1  size2\n",
       "user_id                                                               \n",
       "9          0.38   0.332469  0.500000  0.273504  0.137931    0.2    0.5\n",
       "25         0.32   0.207405  0.542333  0.341880  0.137931    0.3    0.5"
      ]
     },
     "execution_count": 47,
     "metadata": {},
     "output_type": "execute_result"
    }
   ],
   "source": [
    "df_scaled_user1.head(2)"
   ]
  },
  {
   "cell_type": "code",
   "execution_count": 48,
   "metadata": {},
   "outputs": [
    {
     "data": {
      "text/plain": [
       "2    107740\n",
       "1     19622\n",
       "3     19026\n",
       "Name: fit, dtype: int64"
      ]
     },
     "execution_count": 48,
     "metadata": {},
     "output_type": "execute_result"
    }
   ],
   "source": [
    "df_user['fit'].value_counts()"
   ]
  },
  {
   "cell_type": "markdown",
   "metadata": {},
   "source": [
    "## Cluster the users based on user features"
   ]
  },
  {
   "cell_type": "markdown",
   "metadata": {},
   "source": [
    "**K-MEANS CLUSTERING ALGORITHM:**\n",
    "\n",
    "**Finding the best K value:**"
   ]
  },
  {
   "cell_type": "code",
   "execution_count": 43,
   "metadata": {},
   "outputs": [
    {
     "data": {
      "image/png": "[encoded data removed]",
      "text/plain": [
       "<Figure size 432x288 with 1 Axes>"
      ]
     },
     "metadata": {
      "needs_background": "light"
     },
     "output_type": "display_data"
    }
   ],
   "source": [
    "from sklearn.cluster import KMeans\n",
    "\n",
    "wcss = []\n",
    "\n",
    "for k in range(1,10):\n",
    "    kmeans = KMeans(n_clusters=k)\n",
    "    kmeans.fit(df_scaled_user1)\n",
    "    wcss.append(kmeans.inertia_)\n",
    "    \n",
    "# Visualization of k values:\n",
    "\n",
    "plt.plot(range(1,10), wcss, color='red')\n",
    "plt.title('Graph of k values and WCSS')\n",
    "plt.xlabel('k values')\n",
    "plt.ylabel('wcss values')\n",
    "plt.show()"
   ]
  },
  {
   "cell_type": "code",
   "execution_count": 49,
   "metadata": {},
   "outputs": [],
   "source": [
    "# Model with k=3:\n",
    "kmeans2 = KMeans(n_clusters=3)\n",
    "# Training the model:\n",
    "m1=kmeans2.fit(df_scaled_user1)\n",
    "clusters = m1.predict(df_scaled_user1)"
   ]
  },
  {
   "cell_type": "code",
   "execution_count": 50,
   "metadata": {},
   "outputs": [],
   "source": [
    "kmean_out=df_user1.copy()\n",
    "kmean_out['Label']=m1.labels_"
   ]
  },
  {
   "cell_type": "code",
   "execution_count": 51,
   "metadata": {},
   "outputs": [
    {
     "data": {
      "text/html": [
       "<div>\n",
       "<style scoped>\n",
       "    .dataframe tbody tr th:only-of-type {\n",
       "        vertical-align: middle;\n",
       "    }\n",
       "\n",
       "    .dataframe tbody tr th {\n",
       "        vertical-align: top;\n",
       "    }\n",
       "\n",
       "    .dataframe thead th {\n",
       "        text-align: right;\n",
       "    }\n",
       "</style>\n",
       "<table border=\"1\" class=\"dataframe\">\n",
       "  <thead>\n",
       "    <tr style=\"text-align: right;\">\n",
       "      <th></th>\n",
       "      <th>weight</th>\n",
       "      <th>body type</th>\n",
       "      <th>height</th>\n",
       "      <th>age</th>\n",
       "      <th>size</th>\n",
       "      <th>size1</th>\n",
       "      <th>size2</th>\n",
       "    </tr>\n",
       "    <tr>\n",
       "      <th>Label</th>\n",
       "      <th></th>\n",
       "      <th></th>\n",
       "      <th></th>\n",
       "      <th></th>\n",
       "      <th></th>\n",
       "      <th></th>\n",
       "      <th></th>\n",
       "    </tr>\n",
       "  </thead>\n",
       "  <tbody>\n",
       "    <tr>\n",
       "      <th>0</th>\n",
       "      <td>120.242137</td>\n",
       "      <td>1.336227</td>\n",
       "      <td>160.252480</td>\n",
       "      <td>32.770598</td>\n",
       "      <td>5.990967</td>\n",
       "      <td>0.692526</td>\n",
       "      <td>1.994343</td>\n",
       "    </tr>\n",
       "    <tr>\n",
       "      <th>1</th>\n",
       "      <td>142.719699</td>\n",
       "      <td>1.156959</td>\n",
       "      <td>164.075638</td>\n",
       "      <td>33.835319</td>\n",
       "      <td>12.897956</td>\n",
       "      <td>0.716569</td>\n",
       "      <td>2.121613</td>\n",
       "    </tr>\n",
       "    <tr>\n",
       "      <th>2</th>\n",
       "      <td>143.968279</td>\n",
       "      <td>1.157386</td>\n",
       "      <td>164.192441</td>\n",
       "      <td>34.051562</td>\n",
       "      <td>15.403613</td>\n",
       "      <td>0.718708</td>\n",
       "      <td>1.141396</td>\n",
       "    </tr>\n",
       "  </tbody>\n",
       "</table>\n",
       "</div>"
      ],
      "text/plain": [
       "           weight  body type      height        age       size     size1  \\\n",
       "Label                                                                      \n",
       "0      120.242137   1.336227  160.252480  32.770598   5.990967  0.692526   \n",
       "1      142.719699   1.156959  164.075638  33.835319  12.897956  0.716569   \n",
       "2      143.968279   1.157386  164.192441  34.051562  15.403613  0.718708   \n",
       "\n",
       "          size2  \n",
       "Label            \n",
       "0      1.994343  \n",
       "1      2.121613  \n",
       "2      1.141396  "
      ]
     },
     "execution_count": 51,
     "metadata": {},
     "output_type": "execute_result"
    }
   ],
   "source": [
    "kmean_out.iloc[:,1:].groupby('Label').mean()"
   ]
  },
  {
   "cell_type": "markdown",
   "metadata": {},
   "source": [
    "The above table showing the feature mean values for each cluster and we can see resonable difference in these values across differnt groups. \n",
    "\n",
    "Comparing the cluster labels with 'fit' column of this dataset will reveal the nature/quality of this clustering process."
   ]
  },
  {
   "cell_type": "code",
   "execution_count": 52,
   "metadata": {},
   "outputs": [
    {
     "name": "stdout",
     "output_type": "stream",
     "text": [
      "Predicted Data Classes:\n",
      "1    52301\n",
      "0    16883\n",
      "2     8165\n",
      "Name: Label, dtype: int64\n"
     ]
    }
   ],
   "source": [
    "print('Predicted Data Classes:')\n",
    "print(kmean_out['Label'].value_counts())"
   ]
  },
  {
   "cell_type": "code",
   "execution_count": 53,
   "metadata": {},
   "outputs": [
    {
     "data": {
      "text/html": [
       "<div>\n",
       "<style scoped>\n",
       "    .dataframe tbody tr th:only-of-type {\n",
       "        vertical-align: middle;\n",
       "    }\n",
       "\n",
       "    .dataframe tbody tr th {\n",
       "        vertical-align: top;\n",
       "    }\n",
       "\n",
       "    .dataframe thead th {\n",
       "        text-align: right;\n",
       "    }\n",
       "</style>\n",
       "<table border=\"1\" class=\"dataframe\">\n",
       "  <thead>\n",
       "    <tr style=\"text-align: right;\">\n",
       "      <th></th>\n",
       "      <th>fit</th>\n",
       "      <th>weight</th>\n",
       "      <th>body type</th>\n",
       "      <th>height</th>\n",
       "      <th>age</th>\n",
       "      <th>size</th>\n",
       "      <th>size1</th>\n",
       "      <th>size2</th>\n",
       "      <th>Label</th>\n",
       "    </tr>\n",
       "    <tr>\n",
       "      <th>user_id</th>\n",
       "      <th></th>\n",
       "      <th></th>\n",
       "      <th></th>\n",
       "      <th></th>\n",
       "      <th></th>\n",
       "      <th></th>\n",
       "      <th></th>\n",
       "      <th></th>\n",
       "      <th></th>\n",
       "    </tr>\n",
       "  </thead>\n",
       "  <tbody>\n",
       "    <tr>\n",
       "      <th>9</th>\n",
       "      <td>2.0</td>\n",
       "      <td>145.0</td>\n",
       "      <td>1.135641</td>\n",
       "      <td>165.24</td>\n",
       "      <td>32.0</td>\n",
       "      <td>8.0</td>\n",
       "      <td>0.666667</td>\n",
       "      <td>2.0</td>\n",
       "      <td>1</td>\n",
       "    </tr>\n",
       "    <tr>\n",
       "      <th>25</th>\n",
       "      <td>2.0</td>\n",
       "      <td>130.0</td>\n",
       "      <td>1.097591</td>\n",
       "      <td>167.78</td>\n",
       "      <td>40.0</td>\n",
       "      <td>8.0</td>\n",
       "      <td>0.708333</td>\n",
       "      <td>2.0</td>\n",
       "      <td>1</td>\n",
       "    </tr>\n",
       "  </tbody>\n",
       "</table>\n",
       "</div>"
      ],
      "text/plain": [
       "         fit  weight  body type  height   age  size     size1  size2  Label\n",
       "user_id                                                                    \n",
       "9        2.0   145.0   1.135641  165.24  32.0   8.0  0.666667    2.0      1\n",
       "25       2.0   130.0   1.097591  167.78  40.0   8.0  0.708333    2.0      1"
      ]
     },
     "execution_count": 53,
     "metadata": {},
     "output_type": "execute_result"
    }
   ],
   "source": [
    "kmean_out.head(2)"
   ]
  },
  {
   "cell_type": "code",
   "execution_count": 54,
   "metadata": {},
   "outputs": [
    {
     "data": {
      "text/html": [
       "<div>\n",
       "<style scoped>\n",
       "    .dataframe tbody tr th:only-of-type {\n",
       "        vertical-align: middle;\n",
       "    }\n",
       "\n",
       "    .dataframe tbody tr th {\n",
       "        vertical-align: top;\n",
       "    }\n",
       "\n",
       "    .dataframe thead th {\n",
       "        text-align: right;\n",
       "    }\n",
       "</style>\n",
       "<table border=\"1\" class=\"dataframe\">\n",
       "  <thead>\n",
       "    <tr style=\"text-align: right;\">\n",
       "      <th>fit</th>\n",
       "      <th>1.0</th>\n",
       "      <th>2.0</th>\n",
       "      <th>3.0</th>\n",
       "    </tr>\n",
       "    <tr>\n",
       "      <th>Label</th>\n",
       "      <th></th>\n",
       "      <th></th>\n",
       "      <th></th>\n",
       "    </tr>\n",
       "  </thead>\n",
       "  <tbody>\n",
       "    <tr>\n",
       "      <th>0</th>\n",
       "      <td>1516</td>\n",
       "      <td>13893</td>\n",
       "      <td>1474</td>\n",
       "    </tr>\n",
       "    <tr>\n",
       "      <th>1</th>\n",
       "      <td>0</td>\n",
       "      <td>46943</td>\n",
       "      <td>5358</td>\n",
       "    </tr>\n",
       "    <tr>\n",
       "      <th>2</th>\n",
       "      <td>5856</td>\n",
       "      <td>2309</td>\n",
       "      <td>0</td>\n",
       "    </tr>\n",
       "  </tbody>\n",
       "</table>\n",
       "</div>"
      ],
      "text/plain": [
       "fit     1.0    2.0   3.0\n",
       "Label                   \n",
       "0      1516  13893  1474\n",
       "1         0  46943  5358\n",
       "2      5856   2309     0"
      ]
     },
     "execution_count": 54,
     "metadata": {},
     "output_type": "execute_result"
    }
   ],
   "source": [
    "pd.crosstab(kmean_out['Label'],kmean_out['fit'])"
   ]
  },
  {
   "cell_type": "markdown",
   "metadata": {},
   "source": [
    "#### From the above table, we can clearly see \n",
    "#### Cluster 0 and cluster 1 contains more of fit 2\n",
    "#### Cluster 2 contains more of fit 1(small)\n",
    "#### Cluster 2 does not contain any fit 3 (large)\n",
    "#### Cluster 1 does not contain any fit 1 (small)\n",
    "\n",
    "#### There is some overlapping between fit and large, but small group is very much discriminative. "
   ]
  },
  {
   "cell_type": "code",
   "execution_count": 55,
   "metadata": {},
   "outputs": [
    {
     "data": {
      "image/png": "[encoded data removed]",
      "text/plain": [
       "<Figure size 432x288 with 1 Axes>"
      ]
     },
     "metadata": {
      "needs_background": "light"
     },
     "output_type": "display_data"
    },
    {
     "data": {
      "image/png": "[encoded data removed]",
      "text/plain": [
       "<Figure size 432x288 with 1 Axes>"
      ]
     },
     "metadata": {
      "needs_background": "light"
     },
     "output_type": "display_data"
    },
    {
     "data": {
      "image/png": "[encoded data removed]",
      "text/plain": [
       "<Figure size 432x288 with 1 Axes>"
      ]
     },
     "metadata": {
      "needs_background": "light"
     },
     "output_type": "display_data"
    },
    {
     "data": {
      "image/png": "[encoded data removed]",
      "text/plain": [
       "<Figure size 432x288 with 1 Axes>"
      ]
     },
     "metadata": {
      "needs_background": "light"
     },
     "output_type": "display_data"
    },
    {
     "data": {
      "image/png": "[encoded data removed]",
      "text/plain": [
       "<Figure size 432x288 with 1 Axes>"
      ]
     },
     "metadata": {
      "needs_background": "light"
     },
     "output_type": "display_data"
    },
    {
     "data": {
      "image/png": "[encoded data removed]",
      "text/plain": [
       "<Figure size 432x288 with 1 Axes>"
      ]
     },
     "metadata": {
      "needs_background": "light"
     },
     "output_type": "display_data"
    },
    {
     "data": {
      "image/png": "[encoded data removed]",
      "text/plain": [
       "<Figure size 432x288 with 1 Axes>"
      ]
     },
     "metadata": {
      "needs_background": "light"
     },
     "output_type": "display_data"
    },
    {
     "data": {
      "image/png": "[encoded data removed]",
      "text/plain": [
       "<Figure size 432x288 with 1 Axes>"
      ]
     },
     "metadata": {
      "needs_background": "light"
     },
     "output_type": "display_data"
    },
    {
     "data": {
      "image/png": "[encoded data removed]",
      "text/plain": [
       "<Figure size 432x288 with 1 Axes>"
      ]
     },
     "metadata": {
      "needs_background": "light"
     },
     "output_type": "display_data"
    }
   ],
   "source": [
    "# Perform some EDA to understand the charecteristics of each cluster\n",
    "import seaborn as sb\n",
    "for i in kmean_out.columns:\n",
    "    sb.boxplot(kmean_out['Label'],kmean_out[i])\n",
    "    plt.show()"
   ]
  },
  {
   "cell_type": "code",
   "execution_count": 56,
   "metadata": {},
   "outputs": [],
   "source": [
    "from sklearn.model_selection import train_test_split\n",
    "df_userv1,df_userv2=train_test_split(df_user1,test_size=0.8,random_state=48)"
   ]
  },
  {
   "cell_type": "code",
   "execution_count": 57,
   "metadata": {},
   "outputs": [
    {
     "data": {
      "text/plain": [
       "(15469, 8)"
      ]
     },
     "execution_count": 57,
     "metadata": {},
     "output_type": "execute_result"
    }
   ],
   "source": [
    "df_userv1.shape"
   ]
  },
  {
   "cell_type": "code",
   "execution_count": null,
   "metadata": {},
   "outputs": [],
   "source": []
  },
  {
   "cell_type": "code",
   "execution_count": 63,
   "metadata": {},
   "outputs": [
    {
     "data": {
      "text/plain": [
       "2.0    0.812399\n",
       "1.0    0.097679\n",
       "3.0    0.089922\n",
       "Name: fit, dtype: float64"
      ]
     },
     "execution_count": 63,
     "metadata": {},
     "output_type": "execute_result"
    }
   ],
   "source": [
    "df_userv1['fit'].value_counts(normalize=True)"
   ]
  },
  {
   "cell_type": "code",
   "execution_count": 64,
   "metadata": {},
   "outputs": [
    {
     "data": {
      "text/plain": [
       "2.0    0.816365\n",
       "1.0    0.095308\n",
       "3.0    0.088327\n",
       "Name: fit, dtype: float64"
      ]
     },
     "execution_count": 64,
     "metadata": {},
     "output_type": "execute_result"
    }
   ],
   "source": [
    "df_user1['fit'].value_counts(normalize=True)"
   ]
  },
  {
   "cell_type": "code",
   "execution_count": 59,
   "metadata": {},
   "outputs": [],
   "source": [
    "mm=MinMaxScaler()\n",
    "df_scaled_userv1=mm.fit_transform(df_userv1.iloc[:,1:])\n",
    "df_scaled_userv1=pd.DataFrame(df_scaled_userv1,columns=df_userv1.columns[1:],index=df_userv1.index)"
   ]
  },
  {
   "cell_type": "code",
   "execution_count": 60,
   "metadata": {},
   "outputs": [
    {
     "name": "stdout",
     "output_type": "stream",
     "text": [
      "0.3957361249946295\n",
      "0.35184252632625984\n",
      "0.369839811509504\n",
      "0.307794324552213\n",
      "0.29898160714866984\n"
     ]
    }
   ],
   "source": [
    "# compute Silhoutee score\n",
    "from sklearn.metrics import silhouette_score\n",
    "sil=[]\n",
    "cl=[2,3,4,5,6]\n",
    "for k in cl:\n",
    "    mod=KMeans(k)\n",
    "    mod.fit(df_scaled_userv1)\n",
    "    score=silhouette_score(df_scaled_userv1,mod.labels_)\n",
    "    print(score)\n",
    "    sil.append(score)"
   ]
  },
  {
   "cell_type": "code",
   "execution_count": 105,
   "metadata": {},
   "outputs": [],
   "source": [
    "#df_userv1.head(2)"
   ]
  },
  {
   "cell_type": "code",
   "execution_count": 61,
   "metadata": {},
   "outputs": [
    {
     "data": {
      "image/png": "[encoded data removed]",
      "text/plain": [
       "<Figure size 432x288 with 1 Axes>"
      ]
     },
     "metadata": {
      "needs_background": "light"
     },
     "output_type": "display_data"
    }
   ],
   "source": [
    "# Using Hierarichal Clustering\n",
    "from scipy.cluster.hierarchy import linkage , dendrogram, fcluster,cophenet\n",
    "mergings = linkage(df_scaled_userv1, method='ward',metric='euclidean')\n",
    "dendrogram(mergings,truncate_mode='lastp',p=100)\n",
    "plt.show()"
   ]
  },
  {
   "cell_type": "code",
   "execution_count": 125,
   "metadata": {},
   "outputs": [
    {
     "data": {
      "text/html": [
       "<div>\n",
       "<style scoped>\n",
       "    .dataframe tbody tr th:only-of-type {\n",
       "        vertical-align: middle;\n",
       "    }\n",
       "\n",
       "    .dataframe tbody tr th {\n",
       "        vertical-align: top;\n",
       "    }\n",
       "\n",
       "    .dataframe thead th {\n",
       "        text-align: right;\n",
       "    }\n",
       "</style>\n",
       "<table border=\"1\" class=\"dataframe\">\n",
       "  <thead>\n",
       "    <tr style=\"text-align: right;\">\n",
       "      <th></th>\n",
       "      <th>0</th>\n",
       "      <th>1</th>\n",
       "      <th>2</th>\n",
       "      <th>3</th>\n",
       "    </tr>\n",
       "  </thead>\n",
       "  <tbody>\n",
       "    <tr>\n",
       "      <th>0</th>\n",
       "      <td>1001.0</td>\n",
       "      <td>2646.0</td>\n",
       "      <td>0.000000</td>\n",
       "      <td>2.0</td>\n",
       "    </tr>\n",
       "    <tr>\n",
       "      <th>1</th>\n",
       "      <td>1185.0</td>\n",
       "      <td>5787.0</td>\n",
       "      <td>0.000000</td>\n",
       "      <td>2.0</td>\n",
       "    </tr>\n",
       "    <tr>\n",
       "      <th>2</th>\n",
       "      <td>12715.0</td>\n",
       "      <td>15470.0</td>\n",
       "      <td>0.000000</td>\n",
       "      <td>3.0</td>\n",
       "    </tr>\n",
       "    <tr>\n",
       "      <th>3</th>\n",
       "      <td>1087.0</td>\n",
       "      <td>10293.0</td>\n",
       "      <td>0.000000</td>\n",
       "      <td>2.0</td>\n",
       "    </tr>\n",
       "    <tr>\n",
       "      <th>4</th>\n",
       "      <td>1368.0</td>\n",
       "      <td>13152.0</td>\n",
       "      <td>0.000000</td>\n",
       "      <td>2.0</td>\n",
       "    </tr>\n",
       "    <tr>\n",
       "      <th>...</th>\n",
       "      <td>...</td>\n",
       "      <td>...</td>\n",
       "      <td>...</td>\n",
       "      <td>...</td>\n",
       "    </tr>\n",
       "    <tr>\n",
       "      <th>15463</th>\n",
       "      <td>30924.0</td>\n",
       "      <td>30929.0</td>\n",
       "      <td>15.808248</td>\n",
       "      <td>5938.0</td>\n",
       "    </tr>\n",
       "    <tr>\n",
       "      <th>15464</th>\n",
       "      <td>30928.0</td>\n",
       "      <td>30932.0</td>\n",
       "      <td>19.312291</td>\n",
       "      <td>8955.0</td>\n",
       "    </tr>\n",
       "    <tr>\n",
       "      <th>15465</th>\n",
       "      <td>30926.0</td>\n",
       "      <td>30933.0</td>\n",
       "      <td>21.848936</td>\n",
       "      <td>10444.0</td>\n",
       "    </tr>\n",
       "    <tr>\n",
       "      <th>15466</th>\n",
       "      <td>30927.0</td>\n",
       "      <td>30934.0</td>\n",
       "      <td>26.313976</td>\n",
       "      <td>12084.0</td>\n",
       "    </tr>\n",
       "    <tr>\n",
       "      <th>15467</th>\n",
       "      <td>30931.0</td>\n",
       "      <td>30935.0</td>\n",
       "      <td>44.775409</td>\n",
       "      <td>15469.0</td>\n",
       "    </tr>\n",
       "  </tbody>\n",
       "</table>\n",
       "<p>15468 rows × 4 columns</p>\n",
       "</div>"
      ],
      "text/plain": [
       "             0        1          2        3\n",
       "0       1001.0   2646.0   0.000000      2.0\n",
       "1       1185.0   5787.0   0.000000      2.0\n",
       "2      12715.0  15470.0   0.000000      3.0\n",
       "3       1087.0  10293.0   0.000000      2.0\n",
       "4       1368.0  13152.0   0.000000      2.0\n",
       "...        ...      ...        ...      ...\n",
       "15463  30924.0  30929.0  15.808248   5938.0\n",
       "15464  30928.0  30932.0  19.312291   8955.0\n",
       "15465  30926.0  30933.0  21.848936  10444.0\n",
       "15466  30927.0  30934.0  26.313976  12084.0\n",
       "15467  30931.0  30935.0  44.775409  15469.0\n",
       "\n",
       "[15468 rows x 4 columns]"
      ]
     },
     "execution_count": 125,
     "metadata": {},
     "output_type": "execute_result"
    }
   ],
   "source": [
    "pd.DataFrame(mergings)"
   ]
  },
  {
   "cell_type": "code",
   "execution_count": 62,
   "metadata": {},
   "outputs": [
    {
     "name": "stdout",
     "output_type": "stream",
     "text": [
      "The number of cluster for the distance of 10  is  8\n",
      "The number of cluster for the distance of 15  is  6\n",
      "The number of cluster for the distance of 20  is  4\n",
      "The number of cluster for the distance of 21  is  4\n",
      "The number of cluster for the distance of 22  is  3\n",
      "The number of cluster for the distance of 25  is  3\n",
      "The number of cluster for the distance of 26  is  3\n",
      "The number of cluster for the distance of 27  is  2\n",
      "The number of cluster for the distance of 30  is  2\n",
      "The number of cluster for the distance of 35  is  2\n",
      "The number of cluster for the distance of 40  is  2\n"
     ]
    }
   ],
   "source": [
    "for i in [10,15,20,21,22,25,26,27,30,35,40]:\n",
    "    clusters = fcluster(mergings, i, criterion='distance')\n",
    "    print('The number of cluster for the distance of', i,' is ', len(np.unique(clusters)))"
   ]
  },
  {
   "cell_type": "markdown",
   "metadata": {},
   "source": [
    "from around 27 to 40 the cluster remain as 2. From distance 22 to 26 the cluster remain as 3. so k = 2 could be better choice of cluster, but k=3 also consider for this dataset as there are 3 differnt fit exist. "
   ]
  },
  {
   "cell_type": "code",
   "execution_count": 63,
   "metadata": {},
   "outputs": [
    {
     "data": {
      "text/plain": [
       "(15469, 7)"
      ]
     },
     "execution_count": 63,
     "metadata": {},
     "output_type": "execute_result"
    }
   ],
   "source": [
    "df_scaled_userv1.shape"
   ]
  },
  {
   "cell_type": "code",
   "execution_count": 64,
   "metadata": {},
   "outputs": [
    {
     "name": "stdout",
     "output_type": "stream",
     "text": [
      "The number of principle components capturing 90 percent varaition is data is :  5  Varaince explained is  0.9744354325954112\n"
     ]
    }
   ],
   "source": [
    "from sklearn.decomposition import PCA \n",
    "pca = PCA(n_components = df_scaled_userv1.shape[1])\n",
    "pca_data = pca.fit_transform(df_scaled_userv1)\n",
    "exp_var_ratio= pca.explained_variance_ratio_\n",
    "exp_var_ratio.round(3)\n",
    "\n",
    "cum_var=exp_var_ratio[0]\n",
    "itr=2 # defined as two as first pc1 variance defined outside the loop\n",
    "for j in exp_var_ratio[1:]:\n",
    "    cum_var=cum_var+j\n",
    "    if cum_var >= 0.95:\n",
    "        break\n",
    "    itr=itr+1\n",
    "\n",
    "print('The number of principle components capturing 90 percent varaition is data is : ',itr,' Varaince explained is ', cum_var)"
   ]
  },
  {
   "cell_type": "code",
   "execution_count": 65,
   "metadata": {},
   "outputs": [
    {
     "data": {
      "text/plain": [
       "Text(0, 0.5, 'Variance Ratio')"
      ]
     },
     "execution_count": 65,
     "metadata": {},
     "output_type": "execute_result"
    },
    {
     "data": {
      "image/png": "[encoded data removed]",
      "text/plain": [
       "<Figure size 432x288 with 1 Axes>"
      ]
     },
     "metadata": {
      "needs_background": "light"
     },
     "output_type": "display_data"
    }
   ],
   "source": [
    "# Variance Ratio bar plot for each PCA components.\n",
    "pc=exp_var_ratio[:itr]\n",
    "ax = plt.bar(range(1,len(pc)+1), pc)\n",
    "plt.xlabel(\"PCA Components\",fontweight = 'bold')\n",
    "plt.ylabel(\"Variance Ratio\",fontweight = 'bold')"
   ]
  },
  {
   "cell_type": "code",
   "execution_count": 66,
   "metadata": {},
   "outputs": [
    {
     "data": {
      "text/plain": [
       "(15469, 5)"
      ]
     },
     "execution_count": 66,
     "metadata": {},
     "output_type": "execute_result"
    }
   ],
   "source": [
    "#Select only 5 PCs\n",
    "pcadata=pca_data[:,:itr]\n",
    "pcadata.shape"
   ]
  },
  {
   "cell_type": "code",
   "execution_count": 67,
   "metadata": {},
   "outputs": [
    {
     "data": {
      "text/html": [
       "<div>\n",
       "<style scoped>\n",
       "    .dataframe tbody tr th:only-of-type {\n",
       "        vertical-align: middle;\n",
       "    }\n",
       "\n",
       "    .dataframe tbody tr th {\n",
       "        vertical-align: top;\n",
       "    }\n",
       "\n",
       "    .dataframe thead th {\n",
       "        text-align: right;\n",
       "    }\n",
       "</style>\n",
       "<table border=\"1\" class=\"dataframe\">\n",
       "  <thead>\n",
       "    <tr style=\"text-align: right;\">\n",
       "      <th></th>\n",
       "      <th>0</th>\n",
       "      <th>1</th>\n",
       "      <th>2</th>\n",
       "      <th>3</th>\n",
       "      <th>4</th>\n",
       "    </tr>\n",
       "  </thead>\n",
       "  <tbody>\n",
       "    <tr>\n",
       "      <th>0</th>\n",
       "      <td>1.0</td>\n",
       "      <td>-0.0</td>\n",
       "      <td>0.0</td>\n",
       "      <td>0.0</td>\n",
       "      <td>-0.0</td>\n",
       "    </tr>\n",
       "    <tr>\n",
       "      <th>1</th>\n",
       "      <td>-0.0</td>\n",
       "      <td>1.0</td>\n",
       "      <td>-0.0</td>\n",
       "      <td>0.0</td>\n",
       "      <td>-0.0</td>\n",
       "    </tr>\n",
       "    <tr>\n",
       "      <th>2</th>\n",
       "      <td>0.0</td>\n",
       "      <td>-0.0</td>\n",
       "      <td>1.0</td>\n",
       "      <td>0.0</td>\n",
       "      <td>-0.0</td>\n",
       "    </tr>\n",
       "    <tr>\n",
       "      <th>3</th>\n",
       "      <td>0.0</td>\n",
       "      <td>0.0</td>\n",
       "      <td>0.0</td>\n",
       "      <td>1.0</td>\n",
       "      <td>0.0</td>\n",
       "    </tr>\n",
       "    <tr>\n",
       "      <th>4</th>\n",
       "      <td>-0.0</td>\n",
       "      <td>-0.0</td>\n",
       "      <td>-0.0</td>\n",
       "      <td>0.0</td>\n",
       "      <td>1.0</td>\n",
       "    </tr>\n",
       "  </tbody>\n",
       "</table>\n",
       "</div>"
      ],
      "text/plain": [
       "     0    1    2    3    4\n",
       "0  1.0 -0.0  0.0  0.0 -0.0\n",
       "1 -0.0  1.0 -0.0  0.0 -0.0\n",
       "2  0.0 -0.0  1.0  0.0 -0.0\n",
       "3  0.0  0.0  0.0  1.0  0.0\n",
       "4 -0.0 -0.0 -0.0  0.0  1.0"
      ]
     },
     "execution_count": 67,
     "metadata": {},
     "output_type": "execute_result"
    }
   ],
   "source": [
    "pd.DataFrame(pcadata).corr().round()"
   ]
  },
  {
   "cell_type": "code",
   "execution_count": 70,
   "metadata": {},
   "outputs": [
    {
     "data": {
      "text/plain": [
       "Text(0, 0.5, 'Cumulative Explained Variance')"
      ]
     },
     "execution_count": 70,
     "metadata": {},
     "output_type": "execute_result"
    },
    {
     "data": {
      "image/png": "[encoded data removed]",
      "text/plain": [
       "<Figure size 432x288 with 1 Axes>"
      ]
     },
     "metadata": {
      "needs_background": "light"
     },
     "output_type": "display_data"
    }
   ],
   "source": [
    "plt.plot(np.cumsum(pca.explained_variance_ratio_))\n",
    "plt.vlines(x=5, ymax=1, ymin=0, colors=\"r\", linestyles=\"--\")\n",
    "plt.hlines(y=0.97, xmax=5, xmin=0, colors=\"g\", linestyles=\"--\")\n",
    "plt.xlabel('Number of PCA components')\n",
    "plt.ylabel('Cumulative Explained Variance')"
   ]
  },
  {
   "cell_type": "code",
   "execution_count": 71,
   "metadata": {},
   "outputs": [
    {
     "data": {
      "text/html": [
       "<div>\n",
       "<style scoped>\n",
       "    .dataframe tbody tr th:only-of-type {\n",
       "        vertical-align: middle;\n",
       "    }\n",
       "\n",
       "    .dataframe tbody tr th {\n",
       "        vertical-align: top;\n",
       "    }\n",
       "\n",
       "    .dataframe thead th {\n",
       "        text-align: right;\n",
       "    }\n",
       "</style>\n",
       "<table border=\"1\" class=\"dataframe\">\n",
       "  <thead>\n",
       "    <tr style=\"text-align: right;\">\n",
       "      <th></th>\n",
       "      <th>PC1</th>\n",
       "      <th>PC2</th>\n",
       "      <th>PC3</th>\n",
       "      <th>PC4</th>\n",
       "      <th>PC5</th>\n",
       "      <th>Attribute</th>\n",
       "    </tr>\n",
       "  </thead>\n",
       "  <tbody>\n",
       "    <tr>\n",
       "      <th>0</th>\n",
       "      <td>0.196488</td>\n",
       "      <td>0.010105</td>\n",
       "      <td>0.417167</td>\n",
       "      <td>0.079269</td>\n",
       "      <td>-0.199129</td>\n",
       "      <td>weight</td>\n",
       "    </tr>\n",
       "    <tr>\n",
       "      <th>1</th>\n",
       "      <td>-0.919053</td>\n",
       "      <td>0.078265</td>\n",
       "      <td>0.380294</td>\n",
       "      <td>0.063133</td>\n",
       "      <td>-0.015646</td>\n",
       "      <td>body type</td>\n",
       "    </tr>\n",
       "    <tr>\n",
       "      <th>2</th>\n",
       "      <td>0.101313</td>\n",
       "      <td>0.014517</td>\n",
       "      <td>0.400174</td>\n",
       "      <td>-0.898297</td>\n",
       "      <td>0.095649</td>\n",
       "      <td>height</td>\n",
       "    </tr>\n",
       "    <tr>\n",
       "      <th>3</th>\n",
       "      <td>0.025578</td>\n",
       "      <td>0.010385</td>\n",
       "      <td>0.067099</td>\n",
       "      <td>0.105528</td>\n",
       "      <td>0.947294</td>\n",
       "      <td>age</td>\n",
       "    </tr>\n",
       "    <tr>\n",
       "      <th>4</th>\n",
       "      <td>0.291706</td>\n",
       "      <td>0.075646</td>\n",
       "      <td>0.631305</td>\n",
       "      <td>0.343876</td>\n",
       "      <td>-0.123204</td>\n",
       "      <td>size</td>\n",
       "    </tr>\n",
       "    <tr>\n",
       "      <th>5</th>\n",
       "      <td>0.136777</td>\n",
       "      <td>0.011267</td>\n",
       "      <td>0.331052</td>\n",
       "      <td>0.229995</td>\n",
       "      <td>0.195980</td>\n",
       "      <td>size1</td>\n",
       "    </tr>\n",
       "    <tr>\n",
       "      <th>6</th>\n",
       "      <td>-0.044879</td>\n",
       "      <td>-0.993783</td>\n",
       "      <td>0.092546</td>\n",
       "      <td>0.022542</td>\n",
       "      <td>0.000883</td>\n",
       "      <td>size2</td>\n",
       "    </tr>\n",
       "  </tbody>\n",
       "</table>\n",
       "</div>"
      ],
      "text/plain": [
       "        PC1       PC2       PC3       PC4       PC5  Attribute\n",
       "0  0.196488  0.010105  0.417167  0.079269 -0.199129     weight\n",
       "1 -0.919053  0.078265  0.380294  0.063133 -0.015646  body type\n",
       "2  0.101313  0.014517  0.400174 -0.898297  0.095649     height\n",
       "3  0.025578  0.010385  0.067099  0.105528  0.947294        age\n",
       "4  0.291706  0.075646  0.631305  0.343876 -0.123204       size\n",
       "5  0.136777  0.011267  0.331052  0.229995  0.195980      size1\n",
       "6 -0.044879 -0.993783  0.092546  0.022542  0.000883      size2"
      ]
     },
     "execution_count": 71,
     "metadata": {},
     "output_type": "execute_result"
    }
   ],
   "source": [
    "# Checking which attributes are well explained by the pca components\n",
    "attributes_pca=pd.DataFrame()\n",
    "for i in range(5):\n",
    "    attributes_pca['PC'+str(i+1)]=pca.components_[i]\n",
    "attributes_pca['Attribute']=df_scaled_userv1.columns\n",
    "attributes_pca"
   ]
  },
  {
   "cell_type": "code",
   "execution_count": 92,
   "metadata": {},
   "outputs": [
    {
     "data": {
      "text/plain": [
       "[1, 2, 3, 4]"
      ]
     },
     "execution_count": 92,
     "metadata": {},
     "output_type": "execute_result"
    }
   ],
   "source": [
    "col=list(np.arange(1,pcadata.shape[1]+1))\n",
    "col"
   ]
  },
  {
   "cell_type": "code",
   "execution_count": 93,
   "metadata": {},
   "outputs": [
    {
     "data": {
      "text/html": [
       "<div>\n",
       "<style scoped>\n",
       "    .dataframe tbody tr th:only-of-type {\n",
       "        vertical-align: middle;\n",
       "    }\n",
       "\n",
       "    .dataframe tbody tr th {\n",
       "        vertical-align: top;\n",
       "    }\n",
       "\n",
       "    .dataframe thead th {\n",
       "        text-align: right;\n",
       "    }\n",
       "</style>\n",
       "<table border=\"1\" class=\"dataframe\">\n",
       "  <thead>\n",
       "    <tr style=\"text-align: right;\">\n",
       "      <th></th>\n",
       "      <th>1</th>\n",
       "      <th>2</th>\n",
       "      <th>3</th>\n",
       "      <th>4</th>\n",
       "    </tr>\n",
       "  </thead>\n",
       "  <tbody>\n",
       "    <tr>\n",
       "      <th>0</th>\n",
       "      <td>0.272603</td>\n",
       "      <td>0.244072</td>\n",
       "      <td>0.132284</td>\n",
       "      <td>-0.056545</td>\n",
       "    </tr>\n",
       "    <tr>\n",
       "      <th>1</th>\n",
       "      <td>0.116181</td>\n",
       "      <td>-0.030560</td>\n",
       "      <td>-0.194250</td>\n",
       "      <td>-0.013997</td>\n",
       "    </tr>\n",
       "    <tr>\n",
       "      <th>2</th>\n",
       "      <td>0.171974</td>\n",
       "      <td>-0.017230</td>\n",
       "      <td>-0.064502</td>\n",
       "      <td>0.006684</td>\n",
       "    </tr>\n",
       "    <tr>\n",
       "      <th>3</th>\n",
       "      <td>0.171105</td>\n",
       "      <td>-0.023776</td>\n",
       "      <td>-0.085916</td>\n",
       "      <td>-0.109053</td>\n",
       "    </tr>\n",
       "    <tr>\n",
       "      <th>4</th>\n",
       "      <td>0.202995</td>\n",
       "      <td>-0.008789</td>\n",
       "      <td>-0.013767</td>\n",
       "      <td>0.137439</td>\n",
       "    </tr>\n",
       "  </tbody>\n",
       "</table>\n",
       "</div>"
      ],
      "text/plain": [
       "          1         2         3         4\n",
       "0  0.272603  0.244072  0.132284 -0.056545\n",
       "1  0.116181 -0.030560 -0.194250 -0.013997\n",
       "2  0.171974 -0.017230 -0.064502  0.006684\n",
       "3  0.171105 -0.023776 -0.085916 -0.109053\n",
       "4  0.202995 -0.008789 -0.013767  0.137439"
      ]
     },
     "execution_count": 93,
     "metadata": {},
     "output_type": "execute_result"
    }
   ],
   "source": [
    "# Creating new dataframe with Principal components\n",
    "\n",
    "df_pca_final = pd.DataFrame(pcadata, columns=col)\n",
    "#df_pca_final = pd.concat([data['country'], df_pca], axis=1)\n",
    "df_pca_final.head()"
   ]
  },
  {
   "cell_type": "code",
   "execution_count": 95,
   "metadata": {},
   "outputs": [
    {
     "name": "stdout",
     "output_type": "stream",
     "text": [
      "2712.048394741615\n",
      "1709.5351998322192\n",
      "1358.865316343148\n",
      "1126.3699675175717\n",
      "914.2463996058216\n",
      "782.78356007433\n",
      "692.078062775704\n",
      "623.6637353184589\n",
      "577.3818295050577\n",
      "537.2692079247868\n",
      "507.4540883854492\n",
      "475.0756895498111\n"
     ]
    },
    {
     "data": {
      "text/plain": [
       "[<matplotlib.lines.Line2D at 0x1c581c91dc8>]"
      ]
     },
     "execution_count": 95,
     "metadata": {},
     "output_type": "execute_result"
    },
    {
     "data": {
      "image/png": "[encoded data removed]",
      "text/plain": [
       "<Figure size 432x288 with 1 Axes>"
      ]
     },
     "metadata": {
      "needs_background": "light"
     },
     "output_type": "display_data"
    }
   ],
   "source": [
    "# K-means Clustering\n",
    "wcss=[]\n",
    "cl=[1,2,3,4,5,6,7,8,9,10,11,12]\n",
    "for k in cl:\n",
    "    mod=KMeans(k)\n",
    "    mod.fit(pcadata)\n",
    "    print(mod.inertia_)\n",
    "    wcss.append(mod.inertia_)\n",
    "plt.plot(cl,wcss)"
   ]
  },
  {
   "cell_type": "code",
   "execution_count": 96,
   "metadata": {},
   "outputs": [
    {
     "name": "stdout",
     "output_type": "stream",
     "text": [
      "0.42172843639735885\n",
      "0.38355001116688103\n",
      "0.4045008385883346\n",
      "0.3459757464416733\n",
      "0.3504470182089633\n",
      "0.36869710408171164\n",
      "0.37762766190655184\n"
     ]
    }
   ],
   "source": [
    "# compute Silhoutee score\n",
    "from sklearn.metrics import silhouette_score\n",
    "sil=[]\n",
    "cl=[2,3,4,5,6,7,8]\n",
    "for k in cl:\n",
    "    mod=KMeans(k)\n",
    "    mod.fit(pcadata)\n",
    "    score=silhouette_score(pcadata,mod.labels_)\n",
    "    print(score)\n",
    "    sil.append(score)"
   ]
  },
  {
   "cell_type": "code",
   "execution_count": 133,
   "metadata": {},
   "outputs": [
    {
     "data": {
      "text/plain": [
       "KMeans(algorithm='auto', copy_x=True, init='k-means++', max_iter=300,\n",
       "       n_clusters=3, n_init=10, n_jobs=None, precompute_distances='auto',\n",
       "       random_state=100, tol=0.0001, verbose=0)"
      ]
     },
     "execution_count": 133,
     "metadata": {},
     "output_type": "execute_result"
    }
   ],
   "source": [
    "cluster4 = KMeans(n_clusters=3, random_state= 100)\n",
    "cluster4.fit(pcadata)"
   ]
  },
  {
   "cell_type": "code",
   "execution_count": 134,
   "metadata": {},
   "outputs": [
    {
     "data": {
      "text/html": [
       "<div>\n",
       "<style scoped>\n",
       "    .dataframe tbody tr th:only-of-type {\n",
       "        vertical-align: middle;\n",
       "    }\n",
       "\n",
       "    .dataframe tbody tr th {\n",
       "        vertical-align: top;\n",
       "    }\n",
       "\n",
       "    .dataframe thead th {\n",
       "        text-align: right;\n",
       "    }\n",
       "</style>\n",
       "<table border=\"1\" class=\"dataframe\">\n",
       "  <thead>\n",
       "    <tr style=\"text-align: right;\">\n",
       "      <th></th>\n",
       "      <th>fit</th>\n",
       "      <th>weight</th>\n",
       "      <th>body type</th>\n",
       "      <th>height</th>\n",
       "      <th>age</th>\n",
       "      <th>size</th>\n",
       "      <th>size1</th>\n",
       "      <th>size2</th>\n",
       "    </tr>\n",
       "    <tr>\n",
       "      <th>user_id</th>\n",
       "      <th></th>\n",
       "      <th></th>\n",
       "      <th></th>\n",
       "      <th></th>\n",
       "      <th></th>\n",
       "      <th></th>\n",
       "      <th></th>\n",
       "      <th></th>\n",
       "    </tr>\n",
       "  </thead>\n",
       "  <tbody>\n",
       "    <tr>\n",
       "      <th>470285</th>\n",
       "      <td>2.0</td>\n",
       "      <td>170.0</td>\n",
       "      <td>1.140251</td>\n",
       "      <td>170.32</td>\n",
       "      <td>27.0</td>\n",
       "      <td>20.0</td>\n",
       "      <td>0.750000</td>\n",
       "      <td>1.5</td>\n",
       "    </tr>\n",
       "    <tr>\n",
       "      <th>91665</th>\n",
       "      <td>2.0</td>\n",
       "      <td>130.0</td>\n",
       "      <td>1.140251</td>\n",
       "      <td>160.16</td>\n",
       "      <td>29.0</td>\n",
       "      <td>4.0</td>\n",
       "      <td>0.708333</td>\n",
       "      <td>2.0</td>\n",
       "    </tr>\n",
       "  </tbody>\n",
       "</table>\n",
       "</div>"
      ],
      "text/plain": [
       "         fit  weight  body type  height   age  size     size1  size2\n",
       "user_id                                                             \n",
       "470285   2.0   170.0   1.140251  170.32  27.0  20.0  0.750000    1.5\n",
       "91665    2.0   130.0   1.140251  160.16  29.0   4.0  0.708333    2.0"
      ]
     },
     "execution_count": 134,
     "metadata": {},
     "output_type": "execute_result"
    }
   ],
   "source": [
    "df_userv1.head(2)"
   ]
  },
  {
   "cell_type": "code",
   "execution_count": 135,
   "metadata": {},
   "outputs": [],
   "source": [
    "data_userv1=df_userv1.copy()"
   ]
  },
  {
   "cell_type": "code",
   "execution_count": 136,
   "metadata": {},
   "outputs": [
    {
     "data": {
      "text/html": [
       "<div>\n",
       "<style scoped>\n",
       "    .dataframe tbody tr th:only-of-type {\n",
       "        vertical-align: middle;\n",
       "    }\n",
       "\n",
       "    .dataframe tbody tr th {\n",
       "        vertical-align: top;\n",
       "    }\n",
       "\n",
       "    .dataframe thead th {\n",
       "        text-align: right;\n",
       "    }\n",
       "</style>\n",
       "<table border=\"1\" class=\"dataframe\">\n",
       "  <thead>\n",
       "    <tr style=\"text-align: right;\">\n",
       "      <th></th>\n",
       "      <th>fit</th>\n",
       "      <th>weight</th>\n",
       "      <th>body type</th>\n",
       "      <th>height</th>\n",
       "      <th>age</th>\n",
       "      <th>size</th>\n",
       "      <th>size1</th>\n",
       "      <th>size2</th>\n",
       "      <th>Cluster_Id4</th>\n",
       "    </tr>\n",
       "    <tr>\n",
       "      <th>user_id</th>\n",
       "      <th></th>\n",
       "      <th></th>\n",
       "      <th></th>\n",
       "      <th></th>\n",
       "      <th></th>\n",
       "      <th></th>\n",
       "      <th></th>\n",
       "      <th></th>\n",
       "      <th></th>\n",
       "    </tr>\n",
       "  </thead>\n",
       "  <tbody>\n",
       "    <tr>\n",
       "      <th>470285</th>\n",
       "      <td>2.0</td>\n",
       "      <td>170.0</td>\n",
       "      <td>1.140251</td>\n",
       "      <td>170.32</td>\n",
       "      <td>27.0</td>\n",
       "      <td>20.0</td>\n",
       "      <td>0.750000</td>\n",
       "      <td>1.5</td>\n",
       "      <td>2</td>\n",
       "    </tr>\n",
       "    <tr>\n",
       "      <th>91665</th>\n",
       "      <td>2.0</td>\n",
       "      <td>130.0</td>\n",
       "      <td>1.140251</td>\n",
       "      <td>160.16</td>\n",
       "      <td>29.0</td>\n",
       "      <td>4.0</td>\n",
       "      <td>0.708333</td>\n",
       "      <td>2.0</td>\n",
       "      <td>1</td>\n",
       "    </tr>\n",
       "    <tr>\n",
       "      <th>637327</th>\n",
       "      <td>2.0</td>\n",
       "      <td>135.0</td>\n",
       "      <td>1.140251</td>\n",
       "      <td>162.70</td>\n",
       "      <td>37.0</td>\n",
       "      <td>13.0</td>\n",
       "      <td>0.708333</td>\n",
       "      <td>2.0</td>\n",
       "      <td>1</td>\n",
       "    </tr>\n",
       "    <tr>\n",
       "      <th>355742</th>\n",
       "      <td>2.0</td>\n",
       "      <td>137.0</td>\n",
       "      <td>1.135641</td>\n",
       "      <td>167.78</td>\n",
       "      <td>34.0</td>\n",
       "      <td>8.0</td>\n",
       "      <td>0.708333</td>\n",
       "      <td>2.0</td>\n",
       "      <td>1</td>\n",
       "    </tr>\n",
       "    <tr>\n",
       "      <th>940796</th>\n",
       "      <td>2.0</td>\n",
       "      <td>140.0</td>\n",
       "      <td>1.140251</td>\n",
       "      <td>157.62</td>\n",
       "      <td>42.0</td>\n",
       "      <td>20.0</td>\n",
       "      <td>0.708333</td>\n",
       "      <td>2.0</td>\n",
       "      <td>1</td>\n",
       "    </tr>\n",
       "  </tbody>\n",
       "</table>\n",
       "</div>"
      ],
      "text/plain": [
       "         fit  weight  body type  height   age  size     size1  size2  \\\n",
       "user_id                                                                \n",
       "470285   2.0   170.0   1.140251  170.32  27.0  20.0  0.750000    1.5   \n",
       "91665    2.0   130.0   1.140251  160.16  29.0   4.0  0.708333    2.0   \n",
       "637327   2.0   135.0   1.140251  162.70  37.0  13.0  0.708333    2.0   \n",
       "355742   2.0   137.0   1.135641  167.78  34.0   8.0  0.708333    2.0   \n",
       "940796   2.0   140.0   1.140251  157.62  42.0  20.0  0.708333    2.0   \n",
       "\n",
       "         Cluster_Id4  \n",
       "user_id               \n",
       "470285             2  \n",
       "91665              1  \n",
       "637327             1  \n",
       "355742             1  \n",
       "940796             1  "
      ]
     },
     "execution_count": 136,
     "metadata": {},
     "output_type": "execute_result"
    }
   ],
   "source": [
    "# Assign the label\n",
    "pcadata_df=pd.DataFrame(pcadata)\n",
    "pcadata_df['Cluster_Id4'] = cluster4.labels_\n",
    "data_userv1['Cluster_Id4'] = cluster4.labels_\n",
    "data_userv1.head()"
   ]
  },
  {
   "cell_type": "code",
   "execution_count": 137,
   "metadata": {},
   "outputs": [
    {
     "data": {
      "text/plain": [
       "1    10429\n",
       "0     3366\n",
       "2     1674\n",
       "Name: Cluster_Id4, dtype: int64"
      ]
     },
     "execution_count": 137,
     "metadata": {},
     "output_type": "execute_result"
    }
   ],
   "source": [
    "\n",
    "data_userv1['Cluster_Id4'].value_counts()"
   ]
  },
  {
   "cell_type": "code",
   "execution_count": 138,
   "metadata": {},
   "outputs": [
    {
     "data": {
      "text/html": [
       "<div>\n",
       "<style scoped>\n",
       "    .dataframe tbody tr th:only-of-type {\n",
       "        vertical-align: middle;\n",
       "    }\n",
       "\n",
       "    .dataframe tbody tr th {\n",
       "        vertical-align: top;\n",
       "    }\n",
       "\n",
       "    .dataframe thead th {\n",
       "        text-align: right;\n",
       "    }\n",
       "</style>\n",
       "<table border=\"1\" class=\"dataframe\">\n",
       "  <thead>\n",
       "    <tr style=\"text-align: right;\">\n",
       "      <th></th>\n",
       "      <th>fit</th>\n",
       "      <th>weight</th>\n",
       "      <th>body type</th>\n",
       "      <th>height</th>\n",
       "      <th>age</th>\n",
       "      <th>size</th>\n",
       "      <th>size1</th>\n",
       "      <th>size2</th>\n",
       "    </tr>\n",
       "    <tr>\n",
       "      <th>Cluster_Id4</th>\n",
       "      <th></th>\n",
       "      <th></th>\n",
       "      <th></th>\n",
       "      <th></th>\n",
       "      <th></th>\n",
       "      <th></th>\n",
       "      <th></th>\n",
       "      <th></th>\n",
       "    </tr>\n",
       "  </thead>\n",
       "  <tbody>\n",
       "    <tr>\n",
       "      <th>0</th>\n",
       "      <td>2.006833</td>\n",
       "      <td>120.113785</td>\n",
       "      <td>1.336204</td>\n",
       "      <td>160.352805</td>\n",
       "      <td>32.809863</td>\n",
       "      <td>5.927065</td>\n",
       "      <td>0.691919</td>\n",
       "      <td>2.006536</td>\n",
       "    </tr>\n",
       "    <tr>\n",
       "      <th>1</th>\n",
       "      <td>2.103462</td>\n",
       "      <td>142.676575</td>\n",
       "      <td>1.157062</td>\n",
       "      <td>164.069111</td>\n",
       "      <td>33.776585</td>\n",
       "      <td>12.868108</td>\n",
       "      <td>0.716655</td>\n",
       "      <td>2.123118</td>\n",
       "    </tr>\n",
       "    <tr>\n",
       "      <th>2</th>\n",
       "      <td>1.270012</td>\n",
       "      <td>144.012545</td>\n",
       "      <td>1.158610</td>\n",
       "      <td>164.362664</td>\n",
       "      <td>34.192354</td>\n",
       "      <td>15.367384</td>\n",
       "      <td>0.718314</td>\n",
       "      <td>1.135006</td>\n",
       "    </tr>\n",
       "  </tbody>\n",
       "</table>\n",
       "</div>"
      ],
      "text/plain": [
       "                  fit      weight  body type      height        age  \\\n",
       "Cluster_Id4                                                           \n",
       "0            2.006833  120.113785   1.336204  160.352805  32.809863   \n",
       "1            2.103462  142.676575   1.157062  164.069111  33.776585   \n",
       "2            1.270012  144.012545   1.158610  164.362664  34.192354   \n",
       "\n",
       "                  size     size1     size2  \n",
       "Cluster_Id4                                 \n",
       "0             5.927065  0.691919  2.006536  \n",
       "1            12.868108  0.716655  2.123118  \n",
       "2            15.367384  0.718314  1.135006  "
      ]
     },
     "execution_count": 138,
     "metadata": {},
     "output_type": "execute_result"
    }
   ],
   "source": [
    "data_userv1.groupby('Cluster_Id4').mean()"
   ]
  },
  {
   "cell_type": "code",
   "execution_count": 120,
   "metadata": {},
   "outputs": [
    {
     "data": {
      "text/html": [
       "<div>\n",
       "<style scoped>\n",
       "    .dataframe tbody tr th:only-of-type {\n",
       "        vertical-align: middle;\n",
       "    }\n",
       "\n",
       "    .dataframe tbody tr th {\n",
       "        vertical-align: top;\n",
       "    }\n",
       "\n",
       "    .dataframe thead th {\n",
       "        text-align: right;\n",
       "    }\n",
       "</style>\n",
       "<table border=\"1\" class=\"dataframe\">\n",
       "  <thead>\n",
       "    <tr style=\"text-align: right;\">\n",
       "      <th>fit</th>\n",
       "      <th>1.0</th>\n",
       "      <th>2.0</th>\n",
       "      <th>3.0</th>\n",
       "    </tr>\n",
       "    <tr>\n",
       "      <th>Cluster_Id4</th>\n",
       "      <th></th>\n",
       "      <th></th>\n",
       "      <th></th>\n",
       "    </tr>\n",
       "  </thead>\n",
       "  <tbody>\n",
       "    <tr>\n",
       "      <th>0</th>\n",
       "      <td>289</td>\n",
       "      <td>2765</td>\n",
       "      <td>312</td>\n",
       "    </tr>\n",
       "    <tr>\n",
       "      <th>1</th>\n",
       "      <td>0</td>\n",
       "      <td>9350</td>\n",
       "      <td>1079</td>\n",
       "    </tr>\n",
       "    <tr>\n",
       "      <th>2</th>\n",
       "      <td>1222</td>\n",
       "      <td>452</td>\n",
       "      <td>0</td>\n",
       "    </tr>\n",
       "  </tbody>\n",
       "</table>\n",
       "</div>"
      ],
      "text/plain": [
       "fit           1.0   2.0   3.0\n",
       "Cluster_Id4                  \n",
       "0             289  2765   312\n",
       "1               0  9350  1079\n",
       "2            1222   452     0"
      ]
     },
     "execution_count": 120,
     "metadata": {},
     "output_type": "execute_result"
    }
   ],
   "source": [
    "pd.crosstab(data_userv1['Cluster_Id4'],data_userv1['fit'])"
   ]
  },
  {
   "cell_type": "code",
   "execution_count": null,
   "metadata": {},
   "outputs": [],
   "source": []
  },
  {
   "cell_type": "code",
   "execution_count": 109,
   "metadata": {},
   "outputs": [
    {
     "data": {
      "image/png": "[encoded data removed]",
      "text/plain": [
       "<Figure size 432x288 with 1 Axes>"
      ]
     },
     "metadata": {
      "needs_background": "light"
     },
     "output_type": "display_data"
    }
   ],
   "source": [
    "# Using Hierarichal Clustering\n",
    "from scipy.cluster.hierarchy import linkage , dendrogram, fcluster,cophenet\n",
    "mergings = linkage(pcadata, method='ward',metric='euclidean')\n",
    "dendrogram(mergings,truncate_mode='lastp',p=50)\n",
    "plt.show()"
   ]
  },
  {
   "cell_type": "code",
   "execution_count": 110,
   "metadata": {},
   "outputs": [
    {
     "name": "stdout",
     "output_type": "stream",
     "text": [
      "The number of cluster for the distance of 10  is  8\n",
      "The number of cluster for the distance of 15  is  6\n",
      "The number of cluster for the distance of 20  is  4\n",
      "The number of cluster for the distance of 25  is  3\n",
      "The number of cluster for the distance of 30  is  2\n",
      "The number of cluster for the distance of 35  is  2\n",
      "The number of cluster for the distance of 40  is  2\n"
     ]
    }
   ],
   "source": [
    "for i in [10,15,20,25,30,35,40]:\n",
    "    clusters = fcluster(mergings, i, criterion='distance')\n",
    "    print('The number of cluster for the distance of', i,' is ', len(np.unique(clusters)))"
   ]
  },
  {
   "cell_type": "code",
   "execution_count": null,
   "metadata": {},
   "outputs": [],
   "source": []
  },
  {
   "cell_type": "code",
   "execution_count": null,
   "metadata": {},
   "outputs": [],
   "source": []
  },
  {
   "cell_type": "code",
   "execution_count": null,
   "metadata": {},
   "outputs": [],
   "source": []
  },
  {
   "cell_type": "markdown",
   "metadata": {},
   "source": [
    "## Cluster the items based on item features"
   ]
  },
  {
   "cell_type": "code",
   "execution_count": 92,
   "metadata": {},
   "outputs": [],
   "source": [
    "df_item=df[item_feat]"
   ]
  },
  {
   "cell_type": "code",
   "execution_count": 93,
   "metadata": {},
   "outputs": [],
   "source": [
    "df_item1=df_item.groupby('item_id').agg({'fit':'median','rating':'mean', 'review_sum_Pol':'mean','review_sum_Subj':'mean',\n",
    "       'review_text__Pol':'mean', 'review_text_Subj':'mean', 'text_compound':'mean', 'text_neg':'mean',\n",
    "       'text_neu':'mean', 'text_pos':'mean', 'sum_compound':'mean', 'sum_neg':'mean', 'sum_neu':'mean','sum_pos':'mean'})"
   ]
  },
  {
   "cell_type": "code",
   "execution_count": 94,
   "metadata": {},
   "outputs": [
    {
     "data": {
      "text/html": [
       "<div>\n",
       "<style scoped>\n",
       "    .dataframe tbody tr th:only-of-type {\n",
       "        vertical-align: middle;\n",
       "    }\n",
       "\n",
       "    .dataframe tbody tr th {\n",
       "        vertical-align: top;\n",
       "    }\n",
       "\n",
       "    .dataframe thead th {\n",
       "        text-align: right;\n",
       "    }\n",
       "</style>\n",
       "<table border=\"1\" class=\"dataframe\">\n",
       "  <thead>\n",
       "    <tr style=\"text-align: right;\">\n",
       "      <th></th>\n",
       "      <th>fit</th>\n",
       "      <th>rating</th>\n",
       "      <th>review_sum_Pol</th>\n",
       "      <th>review_sum_Subj</th>\n",
       "      <th>review_text__Pol</th>\n",
       "      <th>review_text_Subj</th>\n",
       "      <th>text_compound</th>\n",
       "      <th>text_neg</th>\n",
       "      <th>text_neu</th>\n",
       "      <th>text_pos</th>\n",
       "      <th>sum_compound</th>\n",
       "      <th>sum_neg</th>\n",
       "      <th>sum_neu</th>\n",
       "      <th>sum_pos</th>\n",
       "    </tr>\n",
       "    <tr>\n",
       "      <th>item_id</th>\n",
       "      <th></th>\n",
       "      <th></th>\n",
       "      <th></th>\n",
       "      <th></th>\n",
       "      <th></th>\n",
       "      <th></th>\n",
       "      <th></th>\n",
       "      <th></th>\n",
       "      <th></th>\n",
       "      <th></th>\n",
       "      <th></th>\n",
       "      <th></th>\n",
       "      <th></th>\n",
       "      <th></th>\n",
       "    </tr>\n",
       "  </thead>\n",
       "  <tbody>\n",
       "    <tr>\n",
       "      <th>123373</th>\n",
       "      <td>2.0</td>\n",
       "      <td>8.871486</td>\n",
       "      <td>0.429016</td>\n",
       "      <td>0.650976</td>\n",
       "      <td>0.280905</td>\n",
       "      <td>0.578679</td>\n",
       "      <td>0.780956</td>\n",
       "      <td>0.024580</td>\n",
       "      <td>0.736564</td>\n",
       "      <td>0.238849</td>\n",
       "      <td>0.780956</td>\n",
       "      <td>0.015153</td>\n",
       "      <td>0.527255</td>\n",
       "      <td>0.457586</td>\n",
       "    </tr>\n",
       "    <tr>\n",
       "      <th>123793</th>\n",
       "      <td>2.0</td>\n",
       "      <td>9.528804</td>\n",
       "      <td>0.456716</td>\n",
       "      <td>0.597070</td>\n",
       "      <td>0.300035</td>\n",
       "      <td>0.562957</td>\n",
       "      <td>0.842839</td>\n",
       "      <td>0.026008</td>\n",
       "      <td>0.725548</td>\n",
       "      <td>0.248445</td>\n",
       "      <td>0.842839</td>\n",
       "      <td>0.013798</td>\n",
       "      <td>0.556474</td>\n",
       "      <td>0.429729</td>\n",
       "    </tr>\n",
       "  </tbody>\n",
       "</table>\n",
       "</div>"
      ],
      "text/plain": [
       "         fit    rating  review_sum_Pol  review_sum_Subj  review_text__Pol  \\\n",
       "item_id                                                                     \n",
       "123373   2.0  8.871486        0.429016         0.650976          0.280905   \n",
       "123793   2.0  9.528804        0.456716         0.597070          0.300035   \n",
       "\n",
       "         review_text_Subj  text_compound  text_neg  text_neu  text_pos  \\\n",
       "item_id                                                                  \n",
       "123373           0.578679       0.780956  0.024580  0.736564  0.238849   \n",
       "123793           0.562957       0.842839  0.026008  0.725548  0.248445   \n",
       "\n",
       "         sum_compound   sum_neg   sum_neu   sum_pos  \n",
       "item_id                                              \n",
       "123373       0.780956  0.015153  0.527255  0.457586  \n",
       "123793       0.842839  0.013798  0.556474  0.429729  "
      ]
     },
     "execution_count": 94,
     "metadata": {},
     "output_type": "execute_result"
    }
   ],
   "source": [
    "df_item1.head(2)"
   ]
  },
  {
   "cell_type": "code",
   "execution_count": 95,
   "metadata": {},
   "outputs": [],
   "source": [
    "df_item1['fit']=np.round(df_item1['fit'])"
   ]
  },
  {
   "cell_type": "code",
   "execution_count": 96,
   "metadata": {},
   "outputs": [],
   "source": [
    "mm=MinMaxScaler()\n",
    "df_scaled_item1=mm.fit_transform(df_item1.iloc[:,1:])\n",
    "df_scaled_item1=pd.DataFrame(df_scaled_item1,columns=df_item1.columns[1:],index=df_item1.index)"
   ]
  },
  {
   "cell_type": "code",
   "execution_count": 97,
   "metadata": {},
   "outputs": [
    {
     "data": {
      "image/png": "[encoded data removed]",
      "text/plain": [
       "<Figure size 432x288 with 1 Axes>"
      ]
     },
     "metadata": {
      "needs_background": "light"
     },
     "output_type": "display_data"
    }
   ],
   "source": [
    "wcss = []\n",
    "\n",
    "for k in range(1,10):\n",
    "    kmeans = KMeans(n_clusters=k)\n",
    "    kmeans.fit(df_scaled_item1)\n",
    "    wcss.append(kmeans.inertia_)\n",
    "    \n",
    "# Visualization of k values:\n",
    "\n",
    "plt.plot(range(1,10), wcss, color='red')\n",
    "plt.title('Graph of k values and WCSS')\n",
    "plt.xlabel('k values')\n",
    "plt.ylabel('wcss values')\n",
    "plt.show()"
   ]
  },
  {
   "cell_type": "code",
   "execution_count": 114,
   "metadata": {},
   "outputs": [],
   "source": [
    "# Model with k=6:\n",
    "kmeans2 = KMeans(n_clusters=5,random_state=0)\n",
    "\n",
    "# Training the model:\n",
    "m2=kmeans2.fit(df_scaled_item1)\n",
    "clusters = m2.predict(df_scaled_item1)"
   ]
  },
  {
   "cell_type": "code",
   "execution_count": 115,
   "metadata": {},
   "outputs": [],
   "source": [
    "kmean_out_item=df_item1.copy()\n",
    "kmean_out_item['Label']=m2.labels_"
   ]
  },
  {
   "cell_type": "code",
   "execution_count": 116,
   "metadata": {},
   "outputs": [
    {
     "data": {
      "text/html": [
       "<div>\n",
       "<style scoped>\n",
       "    .dataframe tbody tr th:only-of-type {\n",
       "        vertical-align: middle;\n",
       "    }\n",
       "\n",
       "    .dataframe tbody tr th {\n",
       "        vertical-align: top;\n",
       "    }\n",
       "\n",
       "    .dataframe thead th {\n",
       "        text-align: right;\n",
       "    }\n",
       "</style>\n",
       "<table border=\"1\" class=\"dataframe\">\n",
       "  <thead>\n",
       "    <tr style=\"text-align: right;\">\n",
       "      <th></th>\n",
       "      <th>rating</th>\n",
       "      <th>review_sum_Pol</th>\n",
       "      <th>review_sum_Subj</th>\n",
       "      <th>review_text__Pol</th>\n",
       "      <th>review_text_Subj</th>\n",
       "      <th>text_compound</th>\n",
       "      <th>text_neg</th>\n",
       "      <th>text_neu</th>\n",
       "      <th>text_pos</th>\n",
       "      <th>sum_compound</th>\n",
       "      <th>sum_neg</th>\n",
       "      <th>sum_neu</th>\n",
       "      <th>sum_pos</th>\n",
       "    </tr>\n",
       "    <tr>\n",
       "      <th>Label</th>\n",
       "      <th></th>\n",
       "      <th></th>\n",
       "      <th></th>\n",
       "      <th></th>\n",
       "      <th></th>\n",
       "      <th></th>\n",
       "      <th></th>\n",
       "      <th></th>\n",
       "      <th></th>\n",
       "      <th></th>\n",
       "      <th></th>\n",
       "      <th></th>\n",
       "      <th></th>\n",
       "    </tr>\n",
       "  </thead>\n",
       "  <tbody>\n",
       "    <tr>\n",
       "      <th>0</th>\n",
       "      <td>7.745362</td>\n",
       "      <td>0.247827</td>\n",
       "      <td>0.551860</td>\n",
       "      <td>0.169059</td>\n",
       "      <td>0.522997</td>\n",
       "      <td>0.410608</td>\n",
       "      <td>0.050588</td>\n",
       "      <td>0.785768</td>\n",
       "      <td>0.163650</td>\n",
       "      <td>0.410608</td>\n",
       "      <td>0.057047</td>\n",
       "      <td>0.623852</td>\n",
       "      <td>0.319101</td>\n",
       "    </tr>\n",
       "    <tr>\n",
       "      <th>1</th>\n",
       "      <td>8.996145</td>\n",
       "      <td>0.312321</td>\n",
       "      <td>0.494496</td>\n",
       "      <td>0.274545</td>\n",
       "      <td>0.569553</td>\n",
       "      <td>0.773761</td>\n",
       "      <td>0.027223</td>\n",
       "      <td>0.715785</td>\n",
       "      <td>0.256833</td>\n",
       "      <td>0.773761</td>\n",
       "      <td>0.019181</td>\n",
       "      <td>0.611330</td>\n",
       "      <td>0.369258</td>\n",
       "    </tr>\n",
       "    <tr>\n",
       "      <th>2</th>\n",
       "      <td>8.625777</td>\n",
       "      <td>0.053348</td>\n",
       "      <td>0.166072</td>\n",
       "      <td>0.262412</td>\n",
       "      <td>0.559338</td>\n",
       "      <td>0.721545</td>\n",
       "      <td>0.026654</td>\n",
       "      <td>0.729237</td>\n",
       "      <td>0.244092</td>\n",
       "      <td>0.721545</td>\n",
       "      <td>0.013279</td>\n",
       "      <td>0.905768</td>\n",
       "      <td>0.080947</td>\n",
       "    </tr>\n",
       "    <tr>\n",
       "      <th>3</th>\n",
       "      <td>9.132521</td>\n",
       "      <td>0.459074</td>\n",
       "      <td>0.641612</td>\n",
       "      <td>0.286543</td>\n",
       "      <td>0.574787</td>\n",
       "      <td>0.777469</td>\n",
       "      <td>0.027734</td>\n",
       "      <td>0.713019</td>\n",
       "      <td>0.259246</td>\n",
       "      <td>0.777469</td>\n",
       "      <td>0.016555</td>\n",
       "      <td>0.492964</td>\n",
       "      <td>0.490423</td>\n",
       "    </tr>\n",
       "    <tr>\n",
       "      <th>4</th>\n",
       "      <td>9.332676</td>\n",
       "      <td>0.547323</td>\n",
       "      <td>0.755050</td>\n",
       "      <td>0.315782</td>\n",
       "      <td>0.594952</td>\n",
       "      <td>0.786267</td>\n",
       "      <td>0.024540</td>\n",
       "      <td>0.672890</td>\n",
       "      <td>0.302566</td>\n",
       "      <td>0.786267</td>\n",
       "      <td>0.012451</td>\n",
       "      <td>0.306413</td>\n",
       "      <td>0.681135</td>\n",
       "    </tr>\n",
       "  </tbody>\n",
       "</table>\n",
       "</div>"
      ],
      "text/plain": [
       "         rating  review_sum_Pol  review_sum_Subj  review_text__Pol  \\\n",
       "Label                                                                \n",
       "0      7.745362        0.247827         0.551860          0.169059   \n",
       "1      8.996145        0.312321         0.494496          0.274545   \n",
       "2      8.625777        0.053348         0.166072          0.262412   \n",
       "3      9.132521        0.459074         0.641612          0.286543   \n",
       "4      9.332676        0.547323         0.755050          0.315782   \n",
       "\n",
       "       review_text_Subj  text_compound  text_neg  text_neu  text_pos  \\\n",
       "Label                                                                  \n",
       "0              0.522997       0.410608  0.050588  0.785768  0.163650   \n",
       "1              0.569553       0.773761  0.027223  0.715785  0.256833   \n",
       "2              0.559338       0.721545  0.026654  0.729237  0.244092   \n",
       "3              0.574787       0.777469  0.027734  0.713019  0.259246   \n",
       "4              0.594952       0.786267  0.024540  0.672890  0.302566   \n",
       "\n",
       "       sum_compound   sum_neg   sum_neu   sum_pos  \n",
       "Label                                              \n",
       "0          0.410608  0.057047  0.623852  0.319101  \n",
       "1          0.773761  0.019181  0.611330  0.369258  \n",
       "2          0.721545  0.013279  0.905768  0.080947  \n",
       "3          0.777469  0.016555  0.492964  0.490423  \n",
       "4          0.786267  0.012451  0.306413  0.681135  "
      ]
     },
     "execution_count": 116,
     "metadata": {},
     "output_type": "execute_result"
    }
   ],
   "source": [
    "kmean_out_item.iloc[:,1:].groupby('Label').mean()"
   ]
  },
  {
   "cell_type": "code",
   "execution_count": 117,
   "metadata": {},
   "outputs": [
    {
     "name": "stdout",
     "output_type": "stream",
     "text": [
      "Predicted Data Classes:\n",
      "3    2880\n",
      "1    1544\n",
      "4     606\n",
      "0     441\n",
      "2     265\n",
      "Name: Label, dtype: int64\n"
     ]
    }
   ],
   "source": [
    "print('Predicted Data Classes:')\n",
    "print(kmean_out_item['Label'].value_counts())"
   ]
  },
  {
   "cell_type": "markdown",
   "metadata": {},
   "source": [
    "#### For cluster group 3 and 4 items, the ratings, review polarity, subjectivity and the postive sentiment score are high.\n",
    "\n"
   ]
  },
  {
   "cell_type": "code",
   "execution_count": 118,
   "metadata": {},
   "outputs": [
    {
     "name": "stderr",
     "output_type": "stream",
     "text": [
      "C:\\Users\\senthil kumar\\anaconda3\\lib\\site-packages\\seaborn\\_decorators.py:43: FutureWarning: Pass the following variables as keyword args: x, y. From version 0.12, the only valid positional argument will be `data`, and passing other arguments without an explicit keyword will result in an error or misinterpretation.\n",
      "  FutureWarning\n"
     ]
    },
    {
     "data": {
      "image/png": "[encoded data removed]",
      "text/plain": [
       "<Figure size 432x288 with 1 Axes>"
      ]
     },
     "metadata": {
      "needs_background": "light"
     },
     "output_type": "display_data"
    },
    {
     "name": "stderr",
     "output_type": "stream",
     "text": [
      "C:\\Users\\senthil kumar\\anaconda3\\lib\\site-packages\\seaborn\\_decorators.py:43: FutureWarning: Pass the following variables as keyword args: x, y. From version 0.12, the only valid positional argument will be `data`, and passing other arguments without an explicit keyword will result in an error or misinterpretation.\n",
      "  FutureWarning\n"
     ]
    },
    {
     "data": {
      "image/png": "[encoded data removed]",
      "text/plain": [
       "<Figure size 432x288 with 1 Axes>"
      ]
     },
     "metadata": {
      "needs_background": "light"
     },
     "output_type": "display_data"
    },
    {
     "name": "stderr",
     "output_type": "stream",
     "text": [
      "C:\\Users\\senthil kumar\\anaconda3\\lib\\site-packages\\seaborn\\_decorators.py:43: FutureWarning: Pass the following variables as keyword args: x, y. From version 0.12, the only valid positional argument will be `data`, and passing other arguments without an explicit keyword will result in an error or misinterpretation.\n",
      "  FutureWarning\n"
     ]
    },
    {
     "data": {
      "image/png": "[encoded data removed]",
      "text/plain": [
       "<Figure size 432x288 with 1 Axes>"
      ]
     },
     "metadata": {
      "needs_background": "light"
     },
     "output_type": "display_data"
    },
    {
     "name": "stderr",
     "output_type": "stream",
     "text": [
      "C:\\Users\\senthil kumar\\anaconda3\\lib\\site-packages\\seaborn\\_decorators.py:43: FutureWarning: Pass the following variables as keyword args: x, y. From version 0.12, the only valid positional argument will be `data`, and passing other arguments without an explicit keyword will result in an error or misinterpretation.\n",
      "  FutureWarning\n"
     ]
    },
    {
     "data": {
      "image/png": "[encoded data removed]",
      "text/plain": [
       "<Figure size 432x288 with 1 Axes>"
      ]
     },
     "metadata": {
      "needs_background": "light"
     },
     "output_type": "display_data"
    },
    {
     "name": "stderr",
     "output_type": "stream",
     "text": [
      "C:\\Users\\senthil kumar\\anaconda3\\lib\\site-packages\\seaborn\\_decorators.py:43: FutureWarning: Pass the following variables as keyword args: x, y. From version 0.12, the only valid positional argument will be `data`, and passing other arguments without an explicit keyword will result in an error or misinterpretation.\n",
      "  FutureWarning\n"
     ]
    },
    {
     "data": {
      "image/png": "[encoded data removed]",
      "text/plain": [
       "<Figure size 432x288 with 1 Axes>"
      ]
     },
     "metadata": {
      "needs_background": "light"
     },
     "output_type": "display_data"
    },
    {
     "name": "stderr",
     "output_type": "stream",
     "text": [
      "C:\\Users\\senthil kumar\\anaconda3\\lib\\site-packages\\seaborn\\_decorators.py:43: FutureWarning: Pass the following variables as keyword args: x, y. From version 0.12, the only valid positional argument will be `data`, and passing other arguments without an explicit keyword will result in an error or misinterpretation.\n",
      "  FutureWarning\n"
     ]
    },
    {
     "data": {
      "image/png": "[encoded data removed]",
      "text/plain": [
       "<Figure size 432x288 with 1 Axes>"
      ]
     },
     "metadata": {
      "needs_background": "light"
     },
     "output_type": "display_data"
    },
    {
     "name": "stderr",
     "output_type": "stream",
     "text": [
      "C:\\Users\\senthil kumar\\anaconda3\\lib\\site-packages\\seaborn\\_decorators.py:43: FutureWarning: Pass the following variables as keyword args: x, y. From version 0.12, the only valid positional argument will be `data`, and passing other arguments without an explicit keyword will result in an error or misinterpretation.\n",
      "  FutureWarning\n"
     ]
    },
    {
     "data": {
      "image/png": "[encoded data removed]",
      "text/plain": [
       "<Figure size 432x288 with 1 Axes>"
      ]
     },
     "metadata": {
      "needs_background": "light"
     },
     "output_type": "display_data"
    },
    {
     "name": "stderr",
     "output_type": "stream",
     "text": [
      "C:\\Users\\senthil kumar\\anaconda3\\lib\\site-packages\\seaborn\\_decorators.py:43: FutureWarning: Pass the following variables as keyword args: x, y. From version 0.12, the only valid positional argument will be `data`, and passing other arguments without an explicit keyword will result in an error or misinterpretation.\n",
      "  FutureWarning\n"
     ]
    },
    {
     "data": {
      "image/png": "[encoded data removed]",
      "text/plain": [
       "<Figure size 432x288 with 1 Axes>"
      ]
     },
     "metadata": {
      "needs_background": "light"
     },
     "output_type": "display_data"
    },
    {
     "name": "stderr",
     "output_type": "stream",
     "text": [
      "C:\\Users\\senthil kumar\\anaconda3\\lib\\site-packages\\seaborn\\_decorators.py:43: FutureWarning: Pass the following variables as keyword args: x, y. From version 0.12, the only valid positional argument will be `data`, and passing other arguments without an explicit keyword will result in an error or misinterpretation.\n",
      "  FutureWarning\n"
     ]
    },
    {
     "data": {
      "image/png": "[encoded data removed]",
      "text/plain": [
       "<Figure size 432x288 with 1 Axes>"
      ]
     },
     "metadata": {
      "needs_background": "light"
     },
     "output_type": "display_data"
    },
    {
     "name": "stderr",
     "output_type": "stream",
     "text": [
      "C:\\Users\\senthil kumar\\anaconda3\\lib\\site-packages\\seaborn\\_decorators.py:43: FutureWarning: Pass the following variables as keyword args: x, y. From version 0.12, the only valid positional argument will be `data`, and passing other arguments without an explicit keyword will result in an error or misinterpretation.\n",
      "  FutureWarning\n"
     ]
    },
    {
     "data": {
      "image/png": "[encoded data removed]",
      "text/plain": [
       "<Figure size 432x288 with 1 Axes>"
      ]
     },
     "metadata": {
      "needs_background": "light"
     },
     "output_type": "display_data"
    },
    {
     "name": "stderr",
     "output_type": "stream",
     "text": [
      "C:\\Users\\senthil kumar\\anaconda3\\lib\\site-packages\\seaborn\\_decorators.py:43: FutureWarning: Pass the following variables as keyword args: x, y. From version 0.12, the only valid positional argument will be `data`, and passing other arguments without an explicit keyword will result in an error or misinterpretation.\n",
      "  FutureWarning\n"
     ]
    },
    {
     "data": {
      "image/png": "[encoded data removed]",
      "text/plain": [
       "<Figure size 432x288 with 1 Axes>"
      ]
     },
     "metadata": {
      "needs_background": "light"
     },
     "output_type": "display_data"
    },
    {
     "name": "stderr",
     "output_type": "stream",
     "text": [
      "C:\\Users\\senthil kumar\\anaconda3\\lib\\site-packages\\seaborn\\_decorators.py:43: FutureWarning: Pass the following variables as keyword args: x, y. From version 0.12, the only valid positional argument will be `data`, and passing other arguments without an explicit keyword will result in an error or misinterpretation.\n",
      "  FutureWarning\n"
     ]
    },
    {
     "data": {
      "image/png": "[encoded data removed]",
      "text/plain": [
       "<Figure size 432x288 with 1 Axes>"
      ]
     },
     "metadata": {
      "needs_background": "light"
     },
     "output_type": "display_data"
    },
    {
     "name": "stderr",
     "output_type": "stream",
     "text": [
      "C:\\Users\\senthil kumar\\anaconda3\\lib\\site-packages\\seaborn\\_decorators.py:43: FutureWarning: Pass the following variables as keyword args: x, y. From version 0.12, the only valid positional argument will be `data`, and passing other arguments without an explicit keyword will result in an error or misinterpretation.\n",
      "  FutureWarning\n"
     ]
    },
    {
     "data": {
      "image/png": "[encoded data removed]",
      "text/plain": [
       "<Figure size 432x288 with 1 Axes>"
      ]
     },
     "metadata": {
      "needs_background": "light"
     },
     "output_type": "display_data"
    },
    {
     "name": "stderr",
     "output_type": "stream",
     "text": [
      "C:\\Users\\senthil kumar\\anaconda3\\lib\\site-packages\\seaborn\\_decorators.py:43: FutureWarning: Pass the following variables as keyword args: x, y. From version 0.12, the only valid positional argument will be `data`, and passing other arguments without an explicit keyword will result in an error or misinterpretation.\n",
      "  FutureWarning\n"
     ]
    },
    {
     "data": {
      "image/png": "[encoded data removed]",
      "text/plain": [
       "<Figure size 432x288 with 1 Axes>"
      ]
     },
     "metadata": {
      "needs_background": "light"
     },
     "output_type": "display_data"
    },
    {
     "name": "stderr",
     "output_type": "stream",
     "text": [
      "C:\\Users\\senthil kumar\\anaconda3\\lib\\site-packages\\seaborn\\_decorators.py:43: FutureWarning: Pass the following variables as keyword args: x, y. From version 0.12, the only valid positional argument will be `data`, and passing other arguments without an explicit keyword will result in an error or misinterpretation.\n",
      "  FutureWarning\n"
     ]
    },
    {
     "data": {
      "image/png": "[encoded data removed]",
      "text/plain": [
       "<Figure size 432x288 with 1 Axes>"
      ]
     },
     "metadata": {
      "needs_background": "light"
     },
     "output_type": "display_data"
    }
   ],
   "source": [
    "for i in kmean_out_item.columns:\n",
    "    sb.boxplot(kmean_out_item['Label'],kmean_out_item[i])\n",
    "    plt.show()"
   ]
  },
  {
   "cell_type": "code",
   "execution_count": null,
   "metadata": {},
   "outputs": [],
   "source": []
  },
  {
   "cell_type": "code",
   "execution_count": null,
   "metadata": {},
   "outputs": [],
   "source": []
  }
 ],
 "metadata": {
  "kernelspec": {
   "display_name": "Python 3",
   "language": "python",
   "name": "python3"
  },
  "language_info": {
   "codemirror_mode": {
    "name": "ipython",
    "version": 3
   },
   "file_extension": ".py",
   "mimetype": "text/x-python",
   "name": "python",
   "nbconvert_exporter": "python",
   "pygments_lexer": "ipython3",
   "version": "3.7.4"
  }
 },
 "nbformat": 4,
 "nbformat_minor": 4
}
